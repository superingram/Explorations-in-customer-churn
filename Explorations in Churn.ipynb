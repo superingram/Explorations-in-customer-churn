{
 "cells": [
  {
   "cell_type": "markdown",
   "metadata": {},
   "source": [
    "# Explorations in Churn\n",
    "\n",
    "### This file utilizes a data set regarding voluntary customer churn in the telecom industry where customers are on some sort of contract involving international phone calling plans. The data set will be prepared for data analysis, exploratory data analysis will be performed and different types of models will be created including decision tree analysis, logistic regression, support vector classifier, and a random forest with optimized hyperparameters. The most influential features of the data set will be revealed."
   ]
  },
  {
   "cell_type": "code",
   "execution_count": 2,
   "metadata": {},
   "outputs": [],
   "source": [
    "#This file utilizes a data set regarding voluntary customer churn in the telecom industry where customers are on\n",
    "#some sort of contract.  This data set features international phone calling plans. The data set will be prepared \n",
    "#for data analysis, exploratory data analysis will be performed and different types of models will be created including\n",
    "#decision tree analysis, logistic regression, support vector classifier, and a random forest with optimized hyperparameters.\n",
    "#The most influential features of the data set will be revealed. \n",
    "\n",
    "#imports\n",
    "import numpy as np\n",
    "import pandas as pd\n",
    "import matplotlib.pyplot as plt\n",
    "import seaborn as sns\n",
    "import os\n",
    "from sklearn import tree\n",
    "from sklearn.linear_model import LogisticRegression\n",
    "from sklearn.tree import DecisionTreeClassifier\n",
    "from sklearn.model_selection import train_test_split\n",
    "from sklearn.ensemble import RandomForestClassifier\n",
    "from sklearn.metrics import accuracy_score\n",
    "from sklearn.svm import SVC\n",
    "from sklearn.metrics import confusion_matrix\n",
    "from sklearn.metrics import precision_score, recall_score\n",
    "from sklearn.metrics import roc_curve\n",
    "from sklearn.metrics import roc_auc_score\n",
    "from sklearn.model_selection import GridSearchCV\n",
    "from sklearn.model_selection import RandomizedSearchCV\n",
    "from sklearn.metrics import f1_score\n",
    "from sklearn.preprocessing import StandardScaler\n",
    "from sklearn.model_selection import StratifiedShuffleSplit\n",
    "\n"
   ]
  },
  {
   "cell_type": "code",
   "execution_count": 3,
   "metadata": {},
   "outputs": [],
   "source": [
    "#Import the churn data set\n",
    "df = pd.read_csv('churn.csv')"
   ]
  },
  {
   "cell_type": "markdown",
   "metadata": {},
   "source": [
    "### You can find the churn data set that I used [here](https://data.world/earino/churn).\n",
    "\n",
    "### Below is a summary of columns, size and data types of the intital data set."
   ]
  },
  {
   "cell_type": "code",
   "execution_count": 4,
   "metadata": {},
   "outputs": [
    {
     "name": "stdout",
     "output_type": "stream",
     "text": [
      "<class 'pandas.core.frame.DataFrame'>\n",
      "RangeIndex: 3333 entries, 0 to 3332\n",
      "Data columns (total 21 columns):\n",
      " #   Column          Non-Null Count  Dtype  \n",
      "---  ------          --------------  -----  \n",
      " 0   Account_Length  3333 non-null   int64  \n",
      " 1   Vmail_Message   3333 non-null   int64  \n",
      " 2   Day_Mins        3333 non-null   float64\n",
      " 3   Eve_Mins        3333 non-null   float64\n",
      " 4   Night_Mins      3333 non-null   float64\n",
      " 5   Intl_Mins       3333 non-null   float64\n",
      " 6   CustServ_Calls  3333 non-null   int64  \n",
      " 7   Churn           3333 non-null   object \n",
      " 8   Intl_Plan       3333 non-null   object \n",
      " 9   Vmail_Plan      3333 non-null   object \n",
      " 10  Day_Calls       3333 non-null   int64  \n",
      " 11  Day_Charge      3333 non-null   float64\n",
      " 12  Eve_Calls       3333 non-null   int64  \n",
      " 13  Eve_Charge      3333 non-null   float64\n",
      " 14  Night_Calls     3333 non-null   int64  \n",
      " 15  Night_Charge    3333 non-null   float64\n",
      " 16  Intl_Calls      3333 non-null   int64  \n",
      " 17  Intl_Charge     3333 non-null   float64\n",
      " 18  State           3333 non-null   object \n",
      " 19  Area_Code       3333 non-null   int64  \n",
      " 20  Phone           3333 non-null   object \n",
      "dtypes: float64(8), int64(8), object(5)\n",
      "memory usage: 546.9+ KB\n"
     ]
    }
   ],
   "source": [
    "#Explore the data\n",
    "df.info()"
   ]
  },
  {
   "cell_type": "markdown",
   "metadata": {},
   "source": [
    "### Below is the first five rows of the intital data set showing all of the intital features."
   ]
  },
  {
   "cell_type": "code",
   "execution_count": 5,
   "metadata": {},
   "outputs": [
    {
     "data": {
      "text/html": [
       "<div>\n",
       "<style scoped>\n",
       "    .dataframe tbody tr th:only-of-type {\n",
       "        vertical-align: middle;\n",
       "    }\n",
       "\n",
       "    .dataframe tbody tr th {\n",
       "        vertical-align: top;\n",
       "    }\n",
       "\n",
       "    .dataframe thead th {\n",
       "        text-align: right;\n",
       "    }\n",
       "</style>\n",
       "<table border=\"1\" class=\"dataframe\">\n",
       "  <thead>\n",
       "    <tr style=\"text-align: right;\">\n",
       "      <th></th>\n",
       "      <th>Account_Length</th>\n",
       "      <th>Vmail_Message</th>\n",
       "      <th>Day_Mins</th>\n",
       "      <th>Eve_Mins</th>\n",
       "      <th>Night_Mins</th>\n",
       "      <th>Intl_Mins</th>\n",
       "      <th>CustServ_Calls</th>\n",
       "      <th>Churn</th>\n",
       "      <th>Intl_Plan</th>\n",
       "      <th>Vmail_Plan</th>\n",
       "      <th>...</th>\n",
       "      <th>Day_Charge</th>\n",
       "      <th>Eve_Calls</th>\n",
       "      <th>Eve_Charge</th>\n",
       "      <th>Night_Calls</th>\n",
       "      <th>Night_Charge</th>\n",
       "      <th>Intl_Calls</th>\n",
       "      <th>Intl_Charge</th>\n",
       "      <th>State</th>\n",
       "      <th>Area_Code</th>\n",
       "      <th>Phone</th>\n",
       "    </tr>\n",
       "  </thead>\n",
       "  <tbody>\n",
       "    <tr>\n",
       "      <th>0</th>\n",
       "      <td>128</td>\n",
       "      <td>25</td>\n",
       "      <td>265.1</td>\n",
       "      <td>197.4</td>\n",
       "      <td>244.7</td>\n",
       "      <td>10.0</td>\n",
       "      <td>1</td>\n",
       "      <td>no</td>\n",
       "      <td>no</td>\n",
       "      <td>yes</td>\n",
       "      <td>...</td>\n",
       "      <td>45.07</td>\n",
       "      <td>99</td>\n",
       "      <td>16.78</td>\n",
       "      <td>91</td>\n",
       "      <td>11.01</td>\n",
       "      <td>3</td>\n",
       "      <td>2.70</td>\n",
       "      <td>KS</td>\n",
       "      <td>415</td>\n",
       "      <td>382-4657</td>\n",
       "    </tr>\n",
       "    <tr>\n",
       "      <th>1</th>\n",
       "      <td>107</td>\n",
       "      <td>26</td>\n",
       "      <td>161.6</td>\n",
       "      <td>195.5</td>\n",
       "      <td>254.4</td>\n",
       "      <td>13.7</td>\n",
       "      <td>1</td>\n",
       "      <td>no</td>\n",
       "      <td>no</td>\n",
       "      <td>yes</td>\n",
       "      <td>...</td>\n",
       "      <td>27.47</td>\n",
       "      <td>103</td>\n",
       "      <td>16.62</td>\n",
       "      <td>103</td>\n",
       "      <td>11.45</td>\n",
       "      <td>3</td>\n",
       "      <td>3.70</td>\n",
       "      <td>OH</td>\n",
       "      <td>415</td>\n",
       "      <td>371-7191</td>\n",
       "    </tr>\n",
       "    <tr>\n",
       "      <th>2</th>\n",
       "      <td>137</td>\n",
       "      <td>0</td>\n",
       "      <td>243.4</td>\n",
       "      <td>121.2</td>\n",
       "      <td>162.6</td>\n",
       "      <td>12.2</td>\n",
       "      <td>0</td>\n",
       "      <td>no</td>\n",
       "      <td>no</td>\n",
       "      <td>no</td>\n",
       "      <td>...</td>\n",
       "      <td>41.38</td>\n",
       "      <td>110</td>\n",
       "      <td>10.30</td>\n",
       "      <td>104</td>\n",
       "      <td>7.32</td>\n",
       "      <td>5</td>\n",
       "      <td>3.29</td>\n",
       "      <td>NJ</td>\n",
       "      <td>415</td>\n",
       "      <td>358-1921</td>\n",
       "    </tr>\n",
       "    <tr>\n",
       "      <th>3</th>\n",
       "      <td>84</td>\n",
       "      <td>0</td>\n",
       "      <td>299.4</td>\n",
       "      <td>61.9</td>\n",
       "      <td>196.9</td>\n",
       "      <td>6.6</td>\n",
       "      <td>2</td>\n",
       "      <td>no</td>\n",
       "      <td>yes</td>\n",
       "      <td>no</td>\n",
       "      <td>...</td>\n",
       "      <td>50.90</td>\n",
       "      <td>88</td>\n",
       "      <td>5.26</td>\n",
       "      <td>89</td>\n",
       "      <td>8.86</td>\n",
       "      <td>7</td>\n",
       "      <td>1.78</td>\n",
       "      <td>OH</td>\n",
       "      <td>408</td>\n",
       "      <td>375-9999</td>\n",
       "    </tr>\n",
       "    <tr>\n",
       "      <th>4</th>\n",
       "      <td>75</td>\n",
       "      <td>0</td>\n",
       "      <td>166.7</td>\n",
       "      <td>148.3</td>\n",
       "      <td>186.9</td>\n",
       "      <td>10.1</td>\n",
       "      <td>3</td>\n",
       "      <td>no</td>\n",
       "      <td>yes</td>\n",
       "      <td>no</td>\n",
       "      <td>...</td>\n",
       "      <td>28.34</td>\n",
       "      <td>122</td>\n",
       "      <td>12.61</td>\n",
       "      <td>121</td>\n",
       "      <td>8.41</td>\n",
       "      <td>3</td>\n",
       "      <td>2.73</td>\n",
       "      <td>OK</td>\n",
       "      <td>415</td>\n",
       "      <td>330-6626</td>\n",
       "    </tr>\n",
       "  </tbody>\n",
       "</table>\n",
       "<p>5 rows × 21 columns</p>\n",
       "</div>"
      ],
      "text/plain": [
       "   Account_Length  Vmail_Message  Day_Mins  Eve_Mins  Night_Mins  Intl_Mins  \\\n",
       "0             128             25     265.1     197.4       244.7       10.0   \n",
       "1             107             26     161.6     195.5       254.4       13.7   \n",
       "2             137              0     243.4     121.2       162.6       12.2   \n",
       "3              84              0     299.4      61.9       196.9        6.6   \n",
       "4              75              0     166.7     148.3       186.9       10.1   \n",
       "\n",
       "   CustServ_Calls Churn Intl_Plan Vmail_Plan  ...  Day_Charge  Eve_Calls  \\\n",
       "0               1    no        no        yes  ...       45.07         99   \n",
       "1               1    no        no        yes  ...       27.47        103   \n",
       "2               0    no        no         no  ...       41.38        110   \n",
       "3               2    no       yes         no  ...       50.90         88   \n",
       "4               3    no       yes         no  ...       28.34        122   \n",
       "\n",
       "   Eve_Charge  Night_Calls  Night_Charge  Intl_Calls  Intl_Charge  State  \\\n",
       "0       16.78           91         11.01           3         2.70     KS   \n",
       "1       16.62          103         11.45           3         3.70     OH   \n",
       "2       10.30          104          7.32           5         3.29     NJ   \n",
       "3        5.26           89          8.86           7         1.78     OH   \n",
       "4       12.61          121          8.41           3         2.73     OK   \n",
       "\n",
       "  Area_Code     Phone  \n",
       "0       415  382-4657  \n",
       "1       415  371-7191  \n",
       "2       415  358-1921  \n",
       "3       408  375-9999  \n",
       "4       415  330-6626  \n",
       "\n",
       "[5 rows x 21 columns]"
      ]
     },
     "execution_count": 5,
     "metadata": {},
     "output_type": "execute_result"
    }
   ],
   "source": [
    "#Explore data colums\n",
    "df.head()"
   ]
  },
  {
   "cell_type": "code",
   "execution_count": 6,
   "metadata": {},
   "outputs": [],
   "source": [
    "# This tells us a great deal already as there are no missing values, We have our target in Churn, and there are some\n",
    "#object variables that need to be converted.  Phone and Area Code can be dropped so let's do that now.\n",
    "\n",
    "df = df.drop(['Area_Code', 'Phone'], axis = 1)"
   ]
  },
  {
   "cell_type": "markdown",
   "metadata": {},
   "source": [
    "### This tells us a great deal already as there are no missing values, the target is Churn and there are some object variables that need to be converted.  Phone and Area Code can be dropped so let's do that now."
   ]
  },
  {
   "cell_type": "code",
   "execution_count": 7,
   "metadata": {},
   "outputs": [
    {
     "name": "stdout",
     "output_type": "stream",
     "text": [
      "Index(['Account_Length', 'Vmail_Message', 'Day_Mins', 'Eve_Mins', 'Night_Mins',\n",
      "       'Intl_Mins', 'CustServ_Calls', 'Churn', 'Intl_Plan', 'Vmail_Plan',\n",
      "       'Day_Calls', 'Day_Charge', 'Eve_Calls', 'Eve_Charge', 'Night_Calls',\n",
      "       'Night_Charge', 'Intl_Calls', 'Intl_Charge', 'State'],\n",
      "      dtype='object')\n"
     ]
    }
   ],
   "source": [
    "#Let's make sure that they are gone.\n",
    "print(df.columns)"
   ]
  },
  {
   "cell_type": "markdown",
   "metadata": {},
   "source": [
    "### There are object columns that have to be converted to numeric for modeling unless we want to use a decision tree.  Single trees are great for EDA and visualization but have poor predictive power.  One of these values is the State variable. Let's take a look at it to see if this may be a relative variable.  One-hot encoding may be needed here but it will create 51 additonal variables and require deep learning.  We will drop the State variable and move forward.  "
   ]
  },
  {
   "cell_type": "code",
   "execution_count": 8,
   "metadata": {},
   "outputs": [
    {
     "data": {
      "image/png": "[encoded data removed]",
      "text/plain": [
       "<Figure size 720x720 with 1 Axes>"
      ]
     },
     "metadata": {
      "needs_background": "light"
     },
     "output_type": "display_data"
    }
   ],
   "source": [
    "#There are object columns that have to be converted to numeric for modeling unless we want to use a decision tree. \n",
    "#Single trees are great for EDA and visualization but have poor predictive power.  One of these values is the State variable.\n",
    "#Let's take a look at it to see if this may be a relative variable.  One-hot encoding may be needed here.\n",
    "\n",
    "plt.figure(figsize=(10,10))\n",
    "df.State.value_counts().plot(kind='barh')\n",
    "plt.title('State')\n",
    "plt.xlabel('Count')\n",
    "plt.show()"
   ]
  },
  {
   "cell_type": "markdown",
   "metadata": {},
   "source": [
    "### Let's see about the percentage of churn vs. no churn. If the percentage is below 5% then we may have an overfitting problem."
   ]
  },
  {
   "cell_type": "code",
   "execution_count": 9,
   "metadata": {},
   "outputs": [
    {
     "name": "stdout",
     "output_type": "stream",
     "text": [
      "Churn\n",
      "no     85.508551\n",
      "yes    14.491449\n",
      "dtype: float64\n"
     ]
    }
   ],
   "source": [
    "#What is going on in West Virginia?  California is the lowest which is strange for it's size. \n",
    "# This may need to be explored a little.  Let's see about the percentage of churn vs. no churn. \n",
    "# If the percantage is below 5% then we may have an overfitting problem.\n",
    "\n",
    "print(df.groupby(['Churn']).size() / df.shape[0] * 100)"
   ]
  },
  {
   "cell_type": "markdown",
   "metadata": {},
   "source": [
    "### Only around 14% of the samples have churned which is not ideal but we should be able to model the data.  **We may have to stratify the train and test split here.** Before we convert the categorical variables, let's do some feature engineering because there are some columns that may need to be combined or eliminated. The International, daytime, night time and evening call minutes can be divided by their respective total calls for average call minutes per call and let's check the columns/indexes."
   ]
  },
  {
   "cell_type": "code",
   "execution_count": 10,
   "metadata": {},
   "outputs": [
    {
     "name": "stdout",
     "output_type": "stream",
     "text": [
      "Index(['Account_Length', 'Vmail_Message', 'Day_Mins', 'Eve_Mins', 'Night_Mins',\n",
      "       'Intl_Mins', 'CustServ_Calls', 'Churn', 'Intl_Plan', 'Vmail_Plan',\n",
      "       'Day_Calls', 'Day_Charge', 'Eve_Calls', 'Eve_Charge', 'Night_Calls',\n",
      "       'Night_Charge', 'Intl_Calls', 'Intl_Charge', 'State', 'Avg_Day_Calls',\n",
      "       'Avg_Eve_Calls', 'Avg_Intl_Calls', 'Avg_Night_Calls'],\n",
      "      dtype='object')\n"
     ]
    }
   ],
   "source": [
    "#Only around 14% of the samples have churned which is not ideal but we should be able to model the data.\n",
    "#Before we convert the categorical variables, let's do some feature engineering because there are some columns that\n",
    "#may need to be combined or eliminated. The International, daytime, nighttime and evening call minutes can be divided\n",
    "#by their respective total calls for average call minutes per call.  Let's do that now.\n",
    "\n",
    "df['Avg_Day_Calls'] = df['Day_Mins'] / df['Day_Calls']\n",
    "df['Avg_Eve_Calls'] = df['Eve_Mins'] / df['Eve_Calls']\n",
    "df['Avg_Intl_Calls'] = df['Intl_Mins'] / df['Intl_Calls']\n",
    "df['Avg_Night_Calls'] = df['Night_Mins'] / df['Night_Calls']\n",
    "\n",
    "#And let's check the columns/indexes\n",
    "\n",
    "print(df.columns)"
   ]
  },
  {
   "cell_type": "markdown",
   "metadata": {},
   "source": [
    "### Now, we can create a new dataframe with the previous features dropped by subetting.  That way if there is an error, we can revert back to the original df."
   ]
  },
  {
   "cell_type": "code",
   "execution_count": 11,
   "metadata": {},
   "outputs": [
    {
     "data": {
      "text/html": [
       "<div>\n",
       "<style scoped>\n",
       "    .dataframe tbody tr th:only-of-type {\n",
       "        vertical-align: middle;\n",
       "    }\n",
       "\n",
       "    .dataframe tbody tr th {\n",
       "        vertical-align: top;\n",
       "    }\n",
       "\n",
       "    .dataframe thead th {\n",
       "        text-align: right;\n",
       "    }\n",
       "</style>\n",
       "<table border=\"1\" class=\"dataframe\">\n",
       "  <thead>\n",
       "    <tr style=\"text-align: right;\">\n",
       "      <th></th>\n",
       "      <th>Account_Length</th>\n",
       "      <th>Vmail_Message</th>\n",
       "      <th>CustServ_Calls</th>\n",
       "      <th>Churn</th>\n",
       "      <th>Intl_Plan</th>\n",
       "      <th>Vmail_Plan</th>\n",
       "      <th>Day_Charge</th>\n",
       "      <th>Eve_Charge</th>\n",
       "      <th>Night_Charge</th>\n",
       "      <th>Intl_Charge</th>\n",
       "      <th>State</th>\n",
       "      <th>Avg_Day_Calls</th>\n",
       "      <th>Avg_Eve_Calls</th>\n",
       "      <th>Avg_Intl_Calls</th>\n",
       "      <th>Avg_Night_Calls</th>\n",
       "    </tr>\n",
       "  </thead>\n",
       "  <tbody>\n",
       "    <tr>\n",
       "      <th>0</th>\n",
       "      <td>128</td>\n",
       "      <td>25</td>\n",
       "      <td>1</td>\n",
       "      <td>no</td>\n",
       "      <td>no</td>\n",
       "      <td>yes</td>\n",
       "      <td>45.07</td>\n",
       "      <td>16.78</td>\n",
       "      <td>11.01</td>\n",
       "      <td>2.70</td>\n",
       "      <td>KS</td>\n",
       "      <td>2.410000</td>\n",
       "      <td>1.993939</td>\n",
       "      <td>3.333333</td>\n",
       "      <td>2.689011</td>\n",
       "    </tr>\n",
       "    <tr>\n",
       "      <th>1</th>\n",
       "      <td>107</td>\n",
       "      <td>26</td>\n",
       "      <td>1</td>\n",
       "      <td>no</td>\n",
       "      <td>no</td>\n",
       "      <td>yes</td>\n",
       "      <td>27.47</td>\n",
       "      <td>16.62</td>\n",
       "      <td>11.45</td>\n",
       "      <td>3.70</td>\n",
       "      <td>OH</td>\n",
       "      <td>1.313821</td>\n",
       "      <td>1.898058</td>\n",
       "      <td>4.566667</td>\n",
       "      <td>2.469903</td>\n",
       "    </tr>\n",
       "    <tr>\n",
       "      <th>2</th>\n",
       "      <td>137</td>\n",
       "      <td>0</td>\n",
       "      <td>0</td>\n",
       "      <td>no</td>\n",
       "      <td>no</td>\n",
       "      <td>no</td>\n",
       "      <td>41.38</td>\n",
       "      <td>10.30</td>\n",
       "      <td>7.32</td>\n",
       "      <td>3.29</td>\n",
       "      <td>NJ</td>\n",
       "      <td>2.135088</td>\n",
       "      <td>1.101818</td>\n",
       "      <td>2.440000</td>\n",
       "      <td>1.563462</td>\n",
       "    </tr>\n",
       "    <tr>\n",
       "      <th>3</th>\n",
       "      <td>84</td>\n",
       "      <td>0</td>\n",
       "      <td>2</td>\n",
       "      <td>no</td>\n",
       "      <td>yes</td>\n",
       "      <td>no</td>\n",
       "      <td>50.90</td>\n",
       "      <td>5.26</td>\n",
       "      <td>8.86</td>\n",
       "      <td>1.78</td>\n",
       "      <td>OH</td>\n",
       "      <td>4.216901</td>\n",
       "      <td>0.703409</td>\n",
       "      <td>0.942857</td>\n",
       "      <td>2.212360</td>\n",
       "    </tr>\n",
       "    <tr>\n",
       "      <th>4</th>\n",
       "      <td>75</td>\n",
       "      <td>0</td>\n",
       "      <td>3</td>\n",
       "      <td>no</td>\n",
       "      <td>yes</td>\n",
       "      <td>no</td>\n",
       "      <td>28.34</td>\n",
       "      <td>12.61</td>\n",
       "      <td>8.41</td>\n",
       "      <td>2.73</td>\n",
       "      <td>OK</td>\n",
       "      <td>1.475221</td>\n",
       "      <td>1.215574</td>\n",
       "      <td>3.366667</td>\n",
       "      <td>1.544628</td>\n",
       "    </tr>\n",
       "  </tbody>\n",
       "</table>\n",
       "</div>"
      ],
      "text/plain": [
       "   Account_Length  Vmail_Message  CustServ_Calls Churn Intl_Plan Vmail_Plan  \\\n",
       "0             128             25               1    no        no        yes   \n",
       "1             107             26               1    no        no        yes   \n",
       "2             137              0               0    no        no         no   \n",
       "3              84              0               2    no       yes         no   \n",
       "4              75              0               3    no       yes         no   \n",
       "\n",
       "   Day_Charge  Eve_Charge  Night_Charge  Intl_Charge State  Avg_Day_Calls  \\\n",
       "0       45.07       16.78         11.01         2.70    KS       2.410000   \n",
       "1       27.47       16.62         11.45         3.70    OH       1.313821   \n",
       "2       41.38       10.30          7.32         3.29    NJ       2.135088   \n",
       "3       50.90        5.26          8.86         1.78    OH       4.216901   \n",
       "4       28.34       12.61          8.41         2.73    OK       1.475221   \n",
       "\n",
       "   Avg_Eve_Calls  Avg_Intl_Calls  Avg_Night_Calls  \n",
       "0       1.993939        3.333333         2.689011  \n",
       "1       1.898058        4.566667         2.469903  \n",
       "2       1.101818        2.440000         1.563462  \n",
       "3       0.703409        0.942857         2.212360  \n",
       "4       1.215574        3.366667         1.544628  "
      ]
     },
     "execution_count": 11,
     "metadata": {},
     "output_type": "execute_result"
    }
   ],
   "source": [
    "#Now, we can create a new dataframe with the previous features dropped by subetting.  That way if there is an error, we can revert\n",
    "#back to the original df.\n",
    "\n",
    "df_new = df[['Account_Length', 'Vmail_Message', 'CustServ_Calls', 'Churn', 'Intl_Plan', 'Vmail_Plan', 'Day_Charge', 'Eve_Charge',\n",
    "       'Night_Charge', 'Intl_Charge', 'State', 'Avg_Day_Calls',\n",
    "       'Avg_Eve_Calls', 'Avg_Intl_Calls', 'Avg_Night_Calls' ]]\n",
    "df_new.head()\n"
   ]
  },
  {
   "cell_type": "code",
   "execution_count": 12,
   "metadata": {},
   "outputs": [
    {
     "name": "stdout",
     "output_type": "stream",
     "text": [
      "State  Churn\n",
      "AK     no       49\n",
      "       yes       3\n",
      "AL     no       72\n",
      "       yes       8\n",
      "AR     no       44\n",
      "       yes      11\n",
      "AZ     no       60\n",
      "       yes       4\n",
      "CA     no       25\n",
      "       yes       9\n",
      "CO     no       57\n",
      "       yes       9\n",
      "CT     no       62\n",
      "       yes      12\n",
      "DC     no       49\n",
      "       yes       5\n",
      "DE     no       52\n",
      "       yes       9\n",
      "FL     no       55\n",
      "       yes       8\n",
      "Name: Churn, dtype: int64\n",
      "State  Churn\n",
      "SD     no       52\n",
      "       yes       8\n",
      "TN     no       48\n",
      "       yes       5\n",
      "TX     no       54\n",
      "       yes      18\n",
      "UT     no       62\n",
      "       yes      10\n",
      "VA     no       72\n",
      "       yes       5\n",
      "VT     no       65\n",
      "       yes       8\n",
      "WA     no       52\n",
      "       yes      14\n",
      "WI     no       71\n",
      "       yes       7\n",
      "WV     no       96\n",
      "       yes      10\n",
      "WY     no       68\n",
      "       yes       9\n",
      "Name: Churn, dtype: int64\n"
     ]
    }
   ],
   "source": [
    "#Now that we have all of the columns we want, we have to decide how to handle the state data before we convert to binary \n",
    "#values.  \n",
    "\n",
    "print(df_new.groupby('State')['Churn'].value_counts().head(20))\n",
    "print(df_new.groupby('State')['Churn'].value_counts().tail(20))"
   ]
  },
  {
   "cell_type": "markdown",
   "metadata": {},
   "source": [
    "### Exploratory data analysis will now be performed on the final features."
   ]
  },
  {
   "cell_type": "code",
   "execution_count": 13,
   "metadata": {},
   "outputs": [
    {
     "data": {
      "image/png": "[encoded data removed]",
      "text/plain": [
       "<Figure size 720x720 with 12 Axes>"
      ]
     },
     "metadata": {
      "needs_background": "light"
     },
     "output_type": "display_data"
    }
   ],
   "source": [
    "#We can see that different states have higher churn rates so some one-hot encoding would be the order of the day here. \n",
    "#But first, let's view some histograms.\n",
    "\n",
    "df_new.hist(figsize=(10,10))\n",
    "plt.subplots_adjust(hspace=0.5);"
   ]
  },
  {
   "cell_type": "markdown",
   "metadata": {},
   "source": [
    "### Some of these values have a normal distribution but some are skewed, namely our new features. Voicemail messages appear more categorical but let's check if they are relevant to the target first. We will need to standardize the numerical variabes."
   ]
  },
  {
   "cell_type": "code",
   "execution_count": 14,
   "metadata": {},
   "outputs": [
    {
     "name": "stdout",
     "output_type": "stream",
     "text": [
      "Account_Length      212\n",
      "Vmail_Message        46\n",
      "CustServ_Calls       10\n",
      "Churn                 2\n",
      "Intl_Plan             2\n",
      "Vmail_Plan            2\n",
      "Day_Charge         1667\n",
      "Eve_Charge         1440\n",
      "Night_Charge        933\n",
      "Intl_Charge         162\n",
      "State                51\n",
      "Avg_Day_Calls      3259\n",
      "Avg_Eve_Calls      3253\n",
      "Avg_Intl_Calls      781\n",
      "Avg_Night_Calls    3244\n",
      "dtype: int64\n"
     ]
    }
   ],
   "source": [
    "#Some of these values have a normal distribution but some are skewed, namely our new features. Voicemail messages\n",
    "#appear more categorical but let's check if they are relevant to the target first. We will need to standardize numerical\n",
    "#variabes.\n",
    "\n",
    "print(df_new.nunique())"
   ]
  },
  {
   "cell_type": "markdown",
   "metadata": {},
   "source": [
    "### Essentially, what we see here is that Intl_Plan, Vmail_Plan and State are our categorical variables.  Churn is our target and should be removed before modeling.  First, the numerical fields will be standardized or scaled  using StandardScaler by removing the categorical variables.  For now, the target will remain so we can run a Decision Tree model."
   ]
  },
  {
   "cell_type": "code",
   "execution_count": 15,
   "metadata": {},
   "outputs": [],
   "source": [
    "#Essentially, what we see here is that Intl_Plan, Vmail_Plan and State are our categorical variables.  Churn is our target\n",
    "#and should be removed before modeling.  First, we will standardize the numerical fields using StandardScaler by removing\n",
    "#the categorical variables.  For now, we will leave in the target so we can run a Decision Tree. First, we will one-hot \n",
    "#encode the states.\n",
    "\n",
    "df_state = pd.get_dummies(df['State'])\n",
    "state = ['State']\n",
    "cat = df_new.nunique()[df_new.nunique() < 3].keys().tolist()\n",
    "numerical = [x for x in df_new.columns if x not in cat + state]"
   ]
  },
  {
   "cell_type": "code",
   "execution_count": 16,
   "metadata": {},
   "outputs": [],
   "source": [
    "#Here, we will scale the numerical data.\n",
    "\n",
    "scaler = StandardScaler()\n",
    "df_scaled = scaler.fit_transform(df_new[numerical])\n",
    "df_scaled = pd.DataFrame(df_scaled, columns=numerical)"
   ]
  },
  {
   "cell_type": "markdown",
   "metadata": {},
   "source": [
    "### We will merge categorical and numerical variables back together in a final dataframe and make categorical variables binary. The state data will be omitted as the previous graph shows only limited variability and one-hot encoding introduced 51 new variables making a decision tree unreadable.  We can re-add this data later if necessary. The data set is ready for modeling."
   ]
  },
  {
   "cell_type": "code",
   "execution_count": 48,
   "metadata": {},
   "outputs": [
    {
     "name": "stdout",
     "output_type": "stream",
     "text": [
      "<class 'pandas.core.frame.DataFrame'>\n",
      "RangeIndex: 3333 entries, 0 to 3332\n",
      "Data columns (total 14 columns):\n",
      " #   Column           Non-Null Count  Dtype  \n",
      "---  ------           --------------  -----  \n",
      " 0   Churn            3333 non-null   object \n",
      " 1   Intl_Plan        3333 non-null   object \n",
      " 2   Vmail_Plan       3333 non-null   object \n",
      " 3   Account_Length   3333 non-null   float64\n",
      " 4   Vmail_Message    3333 non-null   float64\n",
      " 5   CustServ_Calls   3333 non-null   float64\n",
      " 6   Day_Charge       3333 non-null   float64\n",
      " 7   Eve_Charge       3333 non-null   float64\n",
      " 8   Night_Charge     3333 non-null   float64\n",
      " 9   Intl_Charge      3333 non-null   float64\n",
      " 10  Avg_Day_Calls    3331 non-null   float64\n",
      " 11  Avg_Eve_Calls    3332 non-null   float64\n",
      " 12  Avg_Intl_Calls   3315 non-null   float64\n",
      " 13  Avg_Night_Calls  3333 non-null   float64\n",
      "dtypes: float64(11), object(3)\n",
      "memory usage: 364.7+ KB\n"
     ]
    }
   ],
   "source": [
    "#We will merge categorical and numerical back together in a final dataframe and make categorical variables binary.\n",
    "# The state data will be omitted as the previous graph shows only limited variability and one-hot encoding introduced\n",
    "# 51 new variables making a decision tree unreadable.  We can re-add this data later if necessary.\n",
    "\n",
    "categorical = df_new[['Churn', 'Intl_Plan', 'Vmail_Plan']]\n",
    "dff = pd.concat([categorical, df_scaled], axis = 1)\n",
    "dff.info()"
   ]
  },
  {
   "cell_type": "code",
   "execution_count": 49,
   "metadata": {},
   "outputs": [],
   "source": [
    "#Now we will convert our categorical variables and our target into binary variables and call a Decision Tree for EDA.\n",
    "\n",
    "dff['Vmail_Plan'] = dff['Vmail_Plan'].replace({'no':0, 'yes':1})\n",
    "dff['Intl_Plan'] = dff['Intl_Plan'].replace({'no':0, 'yes':1})\n",
    "dff['Churn'] = dff['Churn'].replace({'no':0, 'yes':1})"
   ]
  },
  {
   "cell_type": "code",
   "execution_count": 50,
   "metadata": {},
   "outputs": [
    {
     "data": {
      "text/html": [
       "<div>\n",
       "<style scoped>\n",
       "    .dataframe tbody tr th:only-of-type {\n",
       "        vertical-align: middle;\n",
       "    }\n",
       "\n",
       "    .dataframe tbody tr th {\n",
       "        vertical-align: top;\n",
       "    }\n",
       "\n",
       "    .dataframe thead th {\n",
       "        text-align: right;\n",
       "    }\n",
       "</style>\n",
       "<table border=\"1\" class=\"dataframe\">\n",
       "  <thead>\n",
       "    <tr style=\"text-align: right;\">\n",
       "      <th></th>\n",
       "      <th>Churn</th>\n",
       "      <th>Intl_Plan</th>\n",
       "      <th>Vmail_Plan</th>\n",
       "      <th>Account_Length</th>\n",
       "      <th>Vmail_Message</th>\n",
       "      <th>CustServ_Calls</th>\n",
       "      <th>Day_Charge</th>\n",
       "      <th>Eve_Charge</th>\n",
       "      <th>Night_Charge</th>\n",
       "      <th>Intl_Charge</th>\n",
       "      <th>Avg_Day_Calls</th>\n",
       "      <th>Avg_Eve_Calls</th>\n",
       "      <th>Avg_Intl_Calls</th>\n",
       "      <th>Avg_Night_Calls</th>\n",
       "    </tr>\n",
       "  </thead>\n",
       "  <tbody>\n",
       "    <tr>\n",
       "      <th>0</th>\n",
       "      <td>0</td>\n",
       "      <td>0</td>\n",
       "      <td>1</td>\n",
       "      <td>0.676489</td>\n",
       "      <td>1.234883</td>\n",
       "      <td>-0.427932</td>\n",
       "      <td>1.567036</td>\n",
       "      <td>-0.070427</td>\n",
       "      <td>0.866029</td>\n",
       "      <td>-0.085690</td>\n",
       "      <td>0.734786</td>\n",
       "      <td>-0.141600</td>\n",
       "      <td>0.097745</td>\n",
       "      <td>0.841837</td>\n",
       "    </tr>\n",
       "    <tr>\n",
       "      <th>1</th>\n",
       "      <td>0</td>\n",
       "      <td>0</td>\n",
       "      <td>1</td>\n",
       "      <td>0.149065</td>\n",
       "      <td>1.307948</td>\n",
       "      <td>-0.427932</td>\n",
       "      <td>-0.334013</td>\n",
       "      <td>-0.107549</td>\n",
       "      <td>1.059390</td>\n",
       "      <td>1.241169</td>\n",
       "      <td>-0.763862</td>\n",
       "      <td>-0.265233</td>\n",
       "      <td>0.643354</td>\n",
       "      <td>0.533006</td>\n",
       "    </tr>\n",
       "    <tr>\n",
       "      <th>2</th>\n",
       "      <td>0</td>\n",
       "      <td>0</td>\n",
       "      <td>0</td>\n",
       "      <td>0.902529</td>\n",
       "      <td>-0.591760</td>\n",
       "      <td>-1.188218</td>\n",
       "      <td>1.168464</td>\n",
       "      <td>-1.573900</td>\n",
       "      <td>-0.755571</td>\n",
       "      <td>0.697156</td>\n",
       "      <td>0.358938</td>\n",
       "      <td>-1.291940</td>\n",
       "      <td>-0.297454</td>\n",
       "      <td>-0.744616</td>\n",
       "    </tr>\n",
       "    <tr>\n",
       "      <th>3</th>\n",
       "      <td>0</td>\n",
       "      <td>1</td>\n",
       "      <td>0</td>\n",
       "      <td>-0.428590</td>\n",
       "      <td>-0.591760</td>\n",
       "      <td>0.332354</td>\n",
       "      <td>2.196759</td>\n",
       "      <td>-2.743268</td>\n",
       "      <td>-0.078806</td>\n",
       "      <td>-1.306401</td>\n",
       "      <td>3.205103</td>\n",
       "      <td>-1.805666</td>\n",
       "      <td>-0.959769</td>\n",
       "      <td>0.170001</td>\n",
       "    </tr>\n",
       "    <tr>\n",
       "      <th>4</th>\n",
       "      <td>0</td>\n",
       "      <td>1</td>\n",
       "      <td>0</td>\n",
       "      <td>-0.654629</td>\n",
       "      <td>-0.591760</td>\n",
       "      <td>1.092641</td>\n",
       "      <td>-0.240041</td>\n",
       "      <td>-1.037939</td>\n",
       "      <td>-0.276562</td>\n",
       "      <td>-0.045885</td>\n",
       "      <td>-0.543203</td>\n",
       "      <td>-1.145258</td>\n",
       "      <td>0.112491</td>\n",
       "      <td>-0.771162</td>\n",
       "    </tr>\n",
       "  </tbody>\n",
       "</table>\n",
       "</div>"
      ],
      "text/plain": [
       "   Churn  Intl_Plan  Vmail_Plan  Account_Length  Vmail_Message  \\\n",
       "0      0          0           1        0.676489       1.234883   \n",
       "1      0          0           1        0.149065       1.307948   \n",
       "2      0          0           0        0.902529      -0.591760   \n",
       "3      0          1           0       -0.428590      -0.591760   \n",
       "4      0          1           0       -0.654629      -0.591760   \n",
       "\n",
       "   CustServ_Calls  Day_Charge  Eve_Charge  Night_Charge  Intl_Charge  \\\n",
       "0       -0.427932    1.567036   -0.070427      0.866029    -0.085690   \n",
       "1       -0.427932   -0.334013   -0.107549      1.059390     1.241169   \n",
       "2       -1.188218    1.168464   -1.573900     -0.755571     0.697156   \n",
       "3        0.332354    2.196759   -2.743268     -0.078806    -1.306401   \n",
       "4        1.092641   -0.240041   -1.037939     -0.276562    -0.045885   \n",
       "\n",
       "   Avg_Day_Calls  Avg_Eve_Calls  Avg_Intl_Calls  Avg_Night_Calls  \n",
       "0       0.734786      -0.141600        0.097745         0.841837  \n",
       "1      -0.763862      -0.265233        0.643354         0.533006  \n",
       "2       0.358938      -1.291940       -0.297454        -0.744616  \n",
       "3       3.205103      -1.805666       -0.959769         0.170001  \n",
       "4      -0.543203      -1.145258        0.112491        -0.771162  "
      ]
     },
     "execution_count": 50,
     "metadata": {},
     "output_type": "execute_result"
    }
   ],
   "source": [
    "#Let's check our data with head() to ensure that we are ready for modeling.\n",
    "dff.head()"
   ]
  },
  {
   "cell_type": "markdown",
   "metadata": {},
   "source": [
    "### Now, we will define our target as X and the rest of dff as y and run a decision tree. This will be used for plotting and visualization as opposed to assessing model performance. We will try a test size of 1/4 and check the split. Wow, that is a ridiculous test accuracy. I almost wonder if I am doing something wrong.  Let's check and print out the tree after optimizing the hyperparameter for maximum depth to prevent overfitting. We can see below that somewhere between 3 and 8 is advantageous."
   ]
  },
  {
   "cell_type": "code",
   "execution_count": 53,
   "metadata": {},
   "outputs": [
    {
     "name": "stdout",
     "output_type": "stream",
     "text": [
      "0.7497749774977498\n",
      "0.2502250225022502\n"
     ]
    }
   ],
   "source": [
    "#Now, we will define our target as X and the rest of dff as y and run a decision tree. This will\n",
    "#be used for plotting and visualization as opposed to assessing model performance. \n",
    "#We will try a test size of 1/4 and check the split. \n",
    "\n",
    "y = dff['Churn']\n",
    "X = dff.drop(['Churn'], axis=1)\n",
    "\n",
    "X.replace([np.inf, -np.inf], np.nan, inplace=True)\n",
    "X.fillna(X.mean(), inplace=True)\n",
    "\n",
    "X_train, X_test, y_train, y_test = train_test_split(X, y, test_size=0.25)\n",
    "print(X_train.shape[0] / X.shape[0])\n",
    "print(X_test.shape[0] / X.shape[0])\n",
    "\n"
   ]
  },
  {
   "cell_type": "code",
   "execution_count": 54,
   "metadata": {},
   "outputs": [
    {
     "name": "stdout",
     "output_type": "stream",
     "text": [
      "Training accuracy:  0.969\n",
      "Test accuracy:  0.928\n"
     ]
    }
   ],
   "source": [
    "#Let's see what kind of tree we can get and what features the tree displays as important.\n",
    "clf = tree.DecisionTreeClassifier(max_depth = 7, criterion = 'gini', splitter = 'best')\n",
    "modelT = clf.fit(X_train, y_train)\n",
    "pred_y = modelT.predict(X_test)\n",
    "print(\"Training accuracy: \", np.round(clf.score(X_train, y_train), 3))\n",
    "print(\"Test accuracy: \", np.round(accuracy_score(y_test, pred_y), 3))"
   ]
  },
  {
   "cell_type": "code",
   "execution_count": 55,
   "metadata": {},
   "outputs": [
    {
     "name": "stdout",
     "output_type": "stream",
     "text": [
      "Test precision: 0.8105, Test recall: 0.6471\n"
     ]
    }
   ],
   "source": [
    "#Wow, that is a ridiculous test accuracy. I almost wonder if I am doing something wrong.  Let's check and print out the tree.\n",
    "\n",
    "test_precision = round(precision_score(y_test, pred_y), 4)\n",
    "test_recall = round(recall_score(y_test, pred_y), 4)\n",
    "print('Test precision: {}, Test recall: {}'.format(test_precision, test_recall))"
   ]
  },
  {
   "cell_type": "code",
   "execution_count": 56,
   "metadata": {},
   "outputs": [
    {
     "name": "stdout",
     "output_type": "stream",
     "text": [
      "    Max_Depth  Accuracy  Precision    Recall\n",
      "0         2.0  0.876499   0.710526  0.226891\n",
      "1         3.0  0.902878   0.806452  0.420168\n",
      "2         4.0  0.919664   0.893939  0.495798\n",
      "3         5.0  0.934053   0.863636  0.638655\n",
      "4         6.0  0.931655   0.844444  0.638655\n",
      "5         7.0  0.928058   0.817204  0.638655\n",
      "6         8.0  0.925659   0.806452  0.630252\n",
      "7         9.0  0.928058   0.817204  0.638655\n",
      "8        10.0  0.930456   0.790476  0.697479\n",
      "9        11.0  0.926859   0.773585  0.689076\n",
      "10       12.0  0.932854   0.811881  0.689076\n",
      "11       13.0  0.924460   0.754545  0.697479\n",
      "12       14.0  0.924460   0.750000  0.705882\n"
     ]
    }
   ],
   "source": [
    "#This is pretty good but let's optimize the tree.  \n",
    "depth_list = list(range(2, 15))\n",
    "depth_tuning = np.zeros((len(depth_list), 4))\n",
    "depth_tuning[:,0] = depth_list\n",
    "for index in range(len(depth_list)):\n",
    "    clf = DecisionTreeClassifier(max_depth=depth_list[index])\n",
    "    clf.fit(X_train, y_train)\n",
    "    pred_y = clf.predict(X_test)\n",
    "    depth_tuning[index,1] = accuracy_score(y_test, pred_y)\n",
    "    depth_tuning[index,2] = precision_score(y_test, pred_y)\n",
    "    depth_tuning[index,3] = recall_score(y_test, pred_y)\n",
    "col_names = ['Max_Depth', 'Accuracy', 'Precision', 'Recall']\n",
    "print(pd.DataFrame(depth_tuning, columns=col_names))"
   ]
  },
  {
   "cell_type": "code",
   "execution_count": 59,
   "metadata": {},
   "outputs": [
    {
     "data": {
      "text/plain": [
       "[Text(697.5, 951.3000000000001, 'CustServ_Calls <= 1.558\\ngini = 0.249\\nsamples = 2499\\nvalue = [2135, 364]'),\n",
       " Text(348.75, 679.5, 'Vmail_Message <= 1.473\\ngini = 0.201\\nsamples = 2346\\nvalue = [2080, 266]'),\n",
       " Text(174.375, 407.70000000000005, 'Churn <= 0.5\\ngini = 0.149\\nsamples = 2164\\nvalue = [1988, 176]'),\n",
       " Text(87.1875, 135.89999999999998, 'gini = 0.095\\nsamples = 1968\\nvalue = [1870, 98]'),\n",
       " Text(261.5625, 135.89999999999998, 'gini = 0.479\\nsamples = 196\\nvalue = [118, 78]'),\n",
       " Text(523.125, 407.70000000000005, 'CustServ_Calls <= -0.1\\ngini = 0.5\\nsamples = 182\\nvalue = [92, 90]'),\n",
       " Text(435.9375, 135.89999999999998, 'gini = 0.343\\nsamples = 100\\nvalue = [22, 78]'),\n",
       " Text(610.3125, 135.89999999999998, 'gini = 0.25\\nsamples = 82\\nvalue = [70, 12]'),\n",
       " Text(1046.25, 679.5, 'Account_Length <= -0.117\\ngini = 0.461\\nsamples = 153\\nvalue = [55, 98]'),\n",
       " Text(871.875, 407.70000000000005, 'Day_Charge <= -0.322\\ngini = 0.342\\nsamples = 119\\nvalue = [26, 93]'),\n",
       " Text(784.6875, 135.89999999999998, 'gini = 0.493\\nsamples = 41\\nvalue = [23, 18]'),\n",
       " Text(959.0625, 135.89999999999998, 'gini = 0.074\\nsamples = 78\\nvalue = [3, 75]'),\n",
       " Text(1220.625, 407.70000000000005, 'Churn <= 0.5\\ngini = 0.251\\nsamples = 34\\nvalue = [29, 5]'),\n",
       " Text(1133.4375, 135.89999999999998, 'gini = 0.067\\nsamples = 29\\nvalue = [28, 1]'),\n",
       " Text(1307.8125, 135.89999999999998, 'gini = 0.32\\nsamples = 5\\nvalue = [1, 4]')]"
      ]
     },
     "execution_count": 59,
     "metadata": {},
     "output_type": "execute_result"
    },
    {
     "data": {
      "image/png": "[encoded data removed]",
      "text/plain": [
       "<Figure size 1800x1440 with 1 Axes>"
      ]
     },
     "metadata": {
      "needs_background": "light"
     },
     "output_type": "display_data"
    }
   ],
   "source": [
    "#We can see that somewhere between 3 and 8 is advantageous. Let's try a tree depth of 3. Next, we will determine which \n",
    "#features the decision tree finds to be most influential and plot the tree.\n",
    "\n",
    "clf = tree.DecisionTreeClassifier(max_depth = 3, criterion = 'gini', splitter = 'best')\n",
    "modelT = clf.fit(X_train, y_train)\n",
    "fig = plt.figure(figsize=(25,20))\n",
    "tree.plot_tree(clf, feature_names = ['Churn', 'Intl_Plan', 'Vmail_Plan', 'Account_Length', 'Vmail_Message', 'CustServ_Calls', 'Day_Charge', 'Eve_Charge',\n",
    "       'Night_Charge', 'Intl_Charge', 'Avg_Day_Calls',\n",
    "       'Avg_Eve_Calls', 'Avg_Intl_Calls', 'Avg_Night_Calls'], filled=True)\n",
    "\n",
    "\n",
    "\n"
   ]
  },
  {
   "cell_type": "markdown",
   "metadata": {},
   "source": [
    "### It looks like the tree split on customer service calls first and then on voice mail messages and account length. This is only one tree though so other models will be explored but it is good to take a first look.  On to logistic regression where we can use information to determine best features."
   ]
  },
  {
   "cell_type": "code",
   "execution_count": 60,
   "metadata": {},
   "outputs": [
    {
     "name": "stdout",
     "output_type": "stream",
     "text": [
      "Test accuracy for logistic regression:  0.9245\n"
     ]
    }
   ],
   "source": [
    "#It looks like the tree split on customer service calls first and then on voice mail messages and account length.\n",
    "#This is only one tree though so other models will be explored but it is good to take a first look.\n",
    "#On to logistic regression where we can use information to determine best features.\n",
    "\n",
    "logreg = LogisticRegression()\n",
    "logreg.fit(X_train, y_train)\n",
    "test_accuracy = accuracy_score(y_test, pred_y)\n",
    "print('Test accuracy for logistic regression: ', round(test_accuracy, 4))\n"
   ]
  },
  {
   "cell_type": "markdown",
   "metadata": {},
   "source": [
    "### The accuracy is not quite as good as the decision tree but we cannot rely on just one tree.  Let's see if we can optimize the logistic regression model with lasso regularization that helps with overfitting and maybe some feature selection."
   ]
  },
  {
   "cell_type": "code",
   "execution_count": 61,
   "metadata": {},
   "outputs": [
    {
     "name": "stdout",
     "output_type": "stream",
     "text": [
      "       C  Non-Zero Coefficients  Accuracy  Precision    Recall\n",
      "0  1.000                   13.0  0.862110   0.535714  0.252101\n",
      "1  0.500                   13.0  0.860911   0.527273  0.243697\n",
      "2  0.250                   11.0  0.862110   0.540000  0.226891\n",
      "3  0.100                   10.0  0.859712   0.521739  0.201681\n",
      "4  0.050                   10.0  0.859712   0.531250  0.142857\n",
      "5  0.025                    8.0  0.862110   0.833333  0.042017\n",
      "6  0.010                    2.0  0.857314   0.000000  0.000000\n",
      "7  0.005                    0.0  0.857314   0.000000  0.000000\n"
     ]
    },
    {
     "name": "stderr",
     "output_type": "stream",
     "text": [
      "C:\\Users\\Owner\\anaconda3\\lib\\site-packages\\sklearn\\metrics\\_classification.py:1221: UndefinedMetricWarning: Precision is ill-defined and being set to 0.0 due to no predicted samples. Use `zero_division` parameter to control this behavior.\n",
      "  _warn_prf(average, modifier, msg_start, len(result))\n",
      "C:\\Users\\Owner\\anaconda3\\lib\\site-packages\\sklearn\\metrics\\_classification.py:1221: UndefinedMetricWarning: Precision is ill-defined and being set to 0.0 due to no predicted samples. Use `zero_division` parameter to control this behavior.\n",
      "  _warn_prf(average, modifier, msg_start, len(result))\n"
     ]
    }
   ],
   "source": [
    "#The accuracy is not quite as good as the decision tree but we cannot rely on just one tree.  Let's see if we can \n",
    "#optimize the logistic regression model with lasso regularization that helps with overfitting and maybe some feature selection.\n",
    "\n",
    "C = [1, 0.5, 0.25, 0.1, 0.05, 0.025, 0.01, 0.005]\n",
    "l1_metrics = np.zeros((len(C), 5))\n",
    "l1_metrics[:,0] = C\n",
    "for index in range(0, len(C)):\n",
    "    logreg = LogisticRegression(penalty = 'l1', C=C[index], solver='liblinear')\n",
    "    logreg.fit(X_train, y_train)\n",
    "    pred_Y = logreg.predict(X_test)\n",
    "    l1_metrics[index, 1] = np.count_nonzero(logreg.coef_)\n",
    "    l1_metrics[index, 2] = accuracy_score(y_test, pred_Y)\n",
    "    l1_metrics[index, 3] = precision_score(y_test, pred_Y)\n",
    "    l1_metrics[index, 4] = recall_score(y_test, pred_Y)\n",
    "col_names = ['C', 'Non-Zero Coefficients', 'Accuracy', 'Precision', 'Recall']\n",
    "print(pd.DataFrame(l1_metrics, columns=col_names))\n"
   ]
  },
  {
   "cell_type": "markdown",
   "metadata": {},
   "source": [
    "### Well, not much can be said with such low recall numbers.  At 8 coefficients, precision is high but recall is really low.  A value of 10 non-zero coefficients may be good choice.  There must be lot of false negatives in this model. "
   ]
  },
  {
   "cell_type": "code",
   "execution_count": 62,
   "metadata": {},
   "outputs": [
    {
     "name": "stdout",
     "output_type": "stream",
     "text": [
      "            Feature  Coefficient  Exp_Coefficient\n",
      "1        Vmail_Plan    -2.024492         0.132061\n",
      "10    Avg_Eve_Calls    -0.062619         0.939302\n",
      "9     Avg_Day_Calls    -0.017728         0.982428\n",
      "2    Account_Length     0.048755         1.049964\n",
      "12  Avg_Night_Calls     0.061457         1.063384\n",
      "7      Night_Charge     0.160371         1.173946\n",
      "8       Intl_Charge     0.184835         1.203020\n",
      "11   Avg_Intl_Calls     0.201229         1.222905\n",
      "6        Eve_Charge     0.418178         1.519190\n",
      "3     Vmail_Message     0.519393         1.681007\n",
      "4    CustServ_Calls     0.623876         1.866148\n",
      "5        Day_Charge     0.760530         2.139409\n",
      "0         Intl_Plan     2.123355         8.359135\n"
     ]
    }
   ],
   "source": [
    "#Well, not much can be said with such low recall numbers.  At 8 coefficients, precision is high but recall is really low.\n",
    "# A value of 10 may be good choice.  There must be lot of false negatives in this model.  \n",
    "\n",
    "logreg = LogisticRegression(penalty = 'l1', C=1, solver='liblinear')\n",
    "logreg.fit(X_train, y_train)\n",
    "pred_y = logreg.predict(X_test)\n",
    "feature_names = pd.DataFrame(X_train.columns, columns = ['Feature'])\n",
    "log_coef = pd.DataFrame(np.transpose(logreg.coef_), columns = ['Coefficient'])\n",
    "coefficients = pd.concat([feature_names, log_coef], axis = 1)\n",
    "coefficients['Exp_Coefficient'] = np.exp(coefficients['Coefficient'])\n",
    "coefficients = coefficients[coefficients['Coefficient']!=0]\n",
    "print(coefficients.sort_values(by=['Exp_Coefficient']))\n",
    "                           "
   ]
  },
  {
   "cell_type": "code",
   "execution_count": 63,
   "metadata": {},
   "outputs": [
    {
     "name": "stdout",
     "output_type": "stream",
     "text": [
      "0.9400479616306955\n"
     ]
    }
   ],
   "source": [
    "#Looks like the international plan may have something to do with churn. Let's get our data into a Random Forest Model.  \n",
    "\n",
    "clf = RandomForestClassifier()\n",
    "clf.fit(X_train, y_train)\n",
    "pred_y = clf.predict(X_test)\n",
    "print(clf.score(X_test, y_test))"
   ]
  },
  {
   "cell_type": "code",
   "execution_count": 64,
   "metadata": {},
   "outputs": [
    {
     "name": "stdout",
     "output_type": "stream",
     "text": [
      "0.9400479616306955\n"
     ]
    }
   ],
   "source": [
    "#Ok, let's check a support vector machine classifier and compare the two.\n",
    "clf_svm = SVC()\n",
    "clf_svm.fit(X_train, y_train)\n",
    "pred_y = clf.predict(X_test)\n",
    "print(clf.score(X_test, y_test))"
   ]
  },
  {
   "cell_type": "markdown",
   "metadata": {},
   "source": [
    "### A support vector classifier and random forest have the same exact. That is quite interesting and maybe the data has been overfit.  Let's go with the Random Forest and find out. Let's take a look at a confusion matrix which will give us a sense of true and false positives and negatives and the ROC curve."
   ]
  },
  {
   "cell_type": "code",
   "execution_count": 68,
   "metadata": {},
   "outputs": [
    {
     "name": "stdout",
     "output_type": "stream",
     "text": [
      "Training accuracy for random forest:  1.0\n",
      "Test accuracy for random forest:  0.94\n",
      "Test precision for random forest: 0.9059, Test recall for random forest: 0.6471\n",
      "Confusion Matrix for random forest: \n",
      "[[707   8]\n",
      " [ 42  77]]\n"
     ]
    },
    {
     "data": {
      "image/png": "[encoded data removed]",
      "text/plain": [
       "<Figure size 432x288 with 1 Axes>"
      ]
     },
     "metadata": {
      "needs_background": "light"
     },
     "output_type": "display_data"
    },
    {
     "name": "stdout",
     "output_type": "stream",
     "text": [
      "Area under the ROC curve for random forest:  0.9057\n",
      "F1 score for random forest:  0.7549\n"
     ]
    }
   ],
   "source": [
    "#That is quite interesting and maybe the data has been overfit.  Let's go with the Random Forest and find out. \n",
    "#Let's take a look at a confusion matrix which will give us a sense of true and false positives and negatives and the\n",
    "#ROC curve\n",
    "\n",
    "clf = RandomForestClassifier()\n",
    "clf.fit(X_train, y_train)\n",
    "pred_y = clf.predict(X_test)\n",
    "\n",
    "\n",
    "print(\"Training accuracy for random forest: \", np.round(clf.score(X_train, y_train), 3))\n",
    "print(\"Test accuracy for random forest: \", np.round(accuracy_score(y_test, pred_y), 3))\n",
    "test_precision_rf = round(precision_score(y_test, pred_y), 4)\n",
    "test_recall_rf = round(recall_score(y_test, pred_y), 4)\n",
    "print('Test precision for random forest: {}, Test recall for random forest: {}'.format(test_precision_rf, test_recall_rf))\n",
    "\n",
    "print(\"Confusion Matrix for random forest: \")\n",
    "print(confusion_matrix(y_test, pred_y))\n",
    "\n",
    "y_pred_prob = clf.predict_proba(X_test)[:, 1]\n",
    "fpr, tpr, thresholds = roc_curve(y_test, y_pred_prob)\n",
    "\n",
    "plt.plot(fpr, tpr)\n",
    "\n",
    "# Add labels and diagonal line\n",
    "plt.xlabel(\"False Positive Rate\")\n",
    "plt.ylabel(\"True Positive Rate\")\n",
    "plt.plot([0, 1], [0, 1], \"k--\")\n",
    "plt.show()\n",
    "\n",
    "#Let's take a look at the area under the ROC curve.\n",
    "\n",
    "print(\"Area under the ROC curve for random forest: \", np.round(roc_auc_score(y_test, y_pred_prob), 4))\n",
    "\n",
    "#Now we will view the F1 score which is precision and recall in a single metric.\n",
    "\n",
    "print(\"F1 score for random forest: \", np.round(f1_score(y_test, pred_y), 4))\n"
   ]
  },
  {
   "cell_type": "markdown",
   "metadata": {},
   "source": [
    "### The Random Forest Classifier seems to be a pretty good model. Now, we are going to use a cross-validation method to optimize the model called GridSearchCV."
   ]
  },
  {
   "cell_type": "code",
   "execution_count": 69,
   "metadata": {},
   "outputs": [
    {
     "name": "stdout",
     "output_type": "stream",
     "text": [
      "{'bootstrap': True, 'criterion': 'gini', 'max_depth': None, 'max_features': 10}\n"
     ]
    }
   ],
   "source": [
    "#The Random Forest Classifier seems to be a pretty good model. Now, we are going to use a cross-validation method to \n",
    "#optimize the model called GridSearchCV.  \n",
    "\n",
    "param_grid = {\"max_depth\": [3, None],\n",
    "              \"max_features\": [1, 3, 10],\n",
    "              \"bootstrap\": [True, False],\n",
    "              \"criterion\": [\"gini\", \"entropy\"]}\n",
    "grid_search = GridSearchCV(clf, param_grid)\n",
    "grid_search.fit(X, y)\n",
    "print(grid_search.best_params_)\n"
   ]
  },
  {
   "cell_type": "code",
   "execution_count": 70,
   "metadata": {},
   "outputs": [
    {
     "data": {
      "image/png": "[encoded data removed]",
      "text/plain": [
       "<Figure size 432x288 with 1 Axes>"
      ]
     },
     "metadata": {
      "needs_background": "light"
     },
     "output_type": "display_data"
    }
   ],
   "source": [
    "#Now, we will take a look at important features.\n",
    "\n",
    "importances = clf.feature_importances_\n",
    "sorted_index = np.argsort(importances)\n",
    "\n",
    "labels = X.columns[sorted_index]\n",
    "\n",
    "plt.barh(range(X.shape[1]), importances[sorted_index], tick_label=labels)\n",
    "plt.show()"
   ]
  },
  {
   "cell_type": "markdown",
   "metadata": {},
   "source": [
    "### We will run it all again with the final dataframe and see what the results are after we create a new partition. This time, we will use a stratified split which means that we can guarantee about 14% of the test set will also have churn = 1.  We will also set the random state to ensure the same set is used for all models."
   ]
  },
  {
   "cell_type": "code",
   "execution_count": 71,
   "metadata": {},
   "outputs": [
    {
     "name": "stdout",
     "output_type": "stream",
     "text": [
      "0    2137\n",
      "1     362\n",
      "Name: Churn, dtype: int64\n",
      "0    713\n",
      "1    121\n",
      "Name: Churn, dtype: int64\n",
      "0    0.855142\n",
      "1    0.144858\n",
      "Name: Churn, dtype: float64\n",
      "0    0.854916\n",
      "1    0.145084\n",
      "Name: Churn, dtype: float64\n",
      "0.7497749774977498\n",
      "0.2502250225022502\n"
     ]
    }
   ],
   "source": [
    "#We will run it all again with the final dataframe and see what the results are after we create a new partition. This time,\n",
    "#we will use a stratified split which means that we can guarantee about 14% of the test set will also have churn = 1.  We\n",
    "#will also set the random state to ensure the same set is used for all models.\n",
    "\n",
    "y = dfff['Churn']\n",
    "X = dfff.drop(['Churn'], axis=1)\n",
    "X.replace([np.inf, -np.inf], np.nan, inplace=True)\n",
    "X.fillna(X.mean(), inplace=True)\n",
    "sss = StratifiedShuffleSplit(n_splits=1, test_size = 0.25, random_state=12)\n",
    "\n",
    "for train, test in sss.split(X, y):\n",
    "    X_train = X.iloc[train]\n",
    "    y_train = y.iloc[train]\n",
    "    X_test = X.iloc[test]\n",
    "    y_test = y.iloc[test]\n",
    "print(y_train.value_counts())\n",
    "print(y_test.value_counts())\n",
    "\n",
    "print(y_train.value_counts() / len(y_train))\n",
    "print(y_test.value_counts() / len(y_test))\n",
    "\n",
    "print(X_train.shape[0] / X.shape[0])\n",
    "print(X_test.shape[0] / X.shape[0])\n"
   ]
  },
  {
   "cell_type": "markdown",
   "metadata": {},
   "source": [
    "### As you can see, the training and test splits have roughly the same ratio of churn customers as the original data set.  Also, We have preserved a train test split of 75/25.  Let's see what our metrics look like now with optimal parameters:"
   ]
  },
  {
   "cell_type": "code",
   "execution_count": 74,
   "metadata": {},
   "outputs": [
    {
     "name": "stdout",
     "output_type": "stream",
     "text": [
      "Training accuracy for random forest:  1.0\n",
      "Test accuracy for random forest:  0.932\n",
      "Test precision for random forest: 0.8478, Test recall for random forest: 0.6446\n",
      "Confusion Matrix for random forest: \n",
      "[[699  14]\n",
      " [ 43  78]]\n"
     ]
    },
    {
     "data": {
      "image/png": "[encoded data removed]",
      "text/plain": [
       "<Figure size 432x288 with 1 Axes>"
      ]
     },
     "metadata": {
      "needs_background": "light"
     },
     "output_type": "display_data"
    },
    {
     "name": "stdout",
     "output_type": "stream",
     "text": [
      "Area under the ROC curve for random forest:  0.8952\n",
      "F1 score for random forest:  0.7324\n"
     ]
    }
   ],
   "source": [
    "#As you can see, the training and test splits have roughly the same ratio of churn customers as the original data set.\n",
    "#Also, We have preserved a train test split of 75/25.  Let's see what our metrics look like now with optimal parameters:\n",
    "\n",
    "clf = RandomForestClassifier(criterion = 'gini', max_features = 10)\n",
    "clf.fit(X_train, y_train)\n",
    "pred_y = clf.predict(X_test)\n",
    "\n",
    "print(\"Training accuracy for random forest: \", np.round(clf.score(X_train, y_train), 3))\n",
    "print(\"Test accuracy for random forest: \", np.round(accuracy_score(y_test, pred_y), 3))\n",
    "test_precision_rf = round(precision_score(y_test, pred_y), 4)\n",
    "test_recall_rf = round(recall_score(y_test, pred_y), 4)\n",
    "print('Test precision for random forest: {}, Test recall for random forest: {}'.format(test_precision_rf, test_recall_rf))\n",
    "\n",
    "print(\"Confusion Matrix for random forest: \")\n",
    "print(confusion_matrix(y_test, pred_y))\n",
    "\n",
    "y_pred_prob = clf.predict_proba(X_test)[:, 1]\n",
    "fpr, tpr, thresholds = roc_curve(y_test, y_pred_prob)\n",
    "\n",
    "plt.plot(fpr, tpr)\n",
    "\n",
    "# Add labels and diagonal line\n",
    "plt.xlabel(\"False Positive Rate\")\n",
    "plt.ylabel(\"True Positive Rate\")\n",
    "plt.plot([0, 1], [0, 1], \"k--\")\n",
    "plt.show()\n",
    "\n",
    "#Let's take a look at the area under the ROC curve.\n",
    "\n",
    "print(\"Area under the ROC curve for random forest: \", np.round(roc_auc_score(y_test, y_pred_prob), 4))\n",
    "\n",
    "#Now we will view the F1 score which is precision and recall in a single metric.\n",
    "\n",
    "print(\"F1 score for random forest: \", np.round(f1_score(y_test, pred_y), 4))\n"
   ]
  },
  {
   "cell_type": "markdown",
   "metadata": {},
   "source": [
    "### The precision went down as there are more false positives.  Good thing we used a stratified split and parameter tuning. The numbers are relatively similar so let's look at the best parameters and best features. Now, we are going to use GridSearchCV for some final tuning. "
   ]
  },
  {
   "cell_type": "code",
   "execution_count": 78,
   "metadata": {},
   "outputs": [
    {
     "name": "stdout",
     "output_type": "stream",
     "text": [
      "{'bootstrap': False, 'criterion': 'entropy', 'max_depth': None, 'max_features': 3}\n"
     ]
    }
   ],
   "source": [
    "#The precision went down as there are more false positives.  Good thing we used a stratified split and parameter tuning. \n",
    "# The numbers are relatively similar so let's look at the best parameters and best features. Now, we are going to \n",
    "#use GridSearchCV on the final dataframe.  \n",
    "\n",
    "param_grid = {\"max_depth\": [3, None],\n",
    "              \"max_features\": [1, 3, 10],\n",
    "              \"bootstrap\": [True, False],\n",
    "              \"criterion\": [\"gini\", \"entropy\"]}\n",
    "grid_search = GridSearchCV(clf, param_grid, scoring='roc_auc', cv=5, n_jobs=4, refit=True)\n",
    "grid_search.fit(X, y)\n",
    "print(grid_search.best_params_)"
   ]
  },
  {
   "cell_type": "markdown",
   "metadata": {},
   "source": [
    "### Interesting, the criterion changed to entropy! Additionally, max features has been reduced to 3 and bootstrapping must be set to false.  Let's also increase the number of trees to 400. "
   ]
  },
  {
   "cell_type": "code",
   "execution_count": 79,
   "metadata": {},
   "outputs": [
    {
     "name": "stdout",
     "output_type": "stream",
     "text": [
      "Training accuracy for random forest:  1.0\n",
      "Test accuracy for random forest:  0.934\n",
      "Test precision for random forest: 0.8587, Test recall for random forest: 0.6529\n",
      "Confusion Matrix for random forest: \n",
      "[[700  13]\n",
      " [ 42  79]]\n"
     ]
    },
    {
     "data": {
      "image/png": "[encoded data removed]",
      "text/plain": [
       "<Figure size 432x288 with 1 Axes>"
      ]
     },
     "metadata": {
      "needs_background": "light"
     },
     "output_type": "display_data"
    },
    {
     "name": "stdout",
     "output_type": "stream",
     "text": [
      "Area under the ROC curve for random forest:  0.9052\n",
      "F1 score for random forest:  0.7418\n"
     ]
    }
   ],
   "source": [
    "#Interesting, the criterion changed to entropy! Additionally, max features has been reduced to 3 and bootstrapping must be set\n",
    "#to false.  Let's also increase the number of trees to 400.  \n",
    "\n",
    "clf = RandomForestClassifier(n_estimators = 400, bootstrap = False, criterion = 'entropy', max_features = 3)\n",
    "clf.fit(X_train, y_train)\n",
    "pred_y = clf.predict(X_test)\n",
    "\n",
    "print(\"Training accuracy for random forest: \", np.round(clf.score(X_train, y_train), 3))\n",
    "print(\"Test accuracy for random forest: \", np.round(accuracy_score(y_test, pred_y), 3))\n",
    "test_precision_rf = round(precision_score(y_test, pred_y), 4)\n",
    "test_recall_rf = round(recall_score(y_test, pred_y), 4)\n",
    "print('Test precision for random forest: {}, Test recall for random forest: {}'.format(test_precision_rf, test_recall_rf))\n",
    "\n",
    "print(\"Confusion Matrix for random forest: \")\n",
    "print(confusion_matrix(y_test, pred_y))\n",
    "\n",
    "y_pred_prob = clf.predict_proba(X_test)[:, 1]\n",
    "fpr, tpr, thresholds = roc_curve(y_test, y_pred_prob)\n",
    "\n",
    "plt.plot(fpr, tpr)\n",
    "\n",
    "# Add labels and diagonal line\n",
    "plt.xlabel(\"False Positive Rate\")\n",
    "plt.ylabel(\"True Positive Rate\")\n",
    "plt.plot([0, 1], [0, 1], \"k--\")\n",
    "plt.show()\n",
    "\n",
    "#Let's take a look at the area under the ROC curve.\n",
    "\n",
    "print(\"Area under the ROC curve for random forest: \", np.round(roc_auc_score(y_test, y_pred_prob), 4))\n",
    "\n",
    "#Now we will view the F1 score which is precision and recall in a single metric.\n",
    "\n",
    "print(\"F1 score for random forest: \", np.round(f1_score(y_test, pred_y), 4))\n"
   ]
  },
  {
   "cell_type": "markdown",
   "metadata": {},
   "source": [
    "### A slight improvement so I will take it.  Finally, we will observe the most predictive features of the Random Forest Model."
   ]
  },
  {
   "cell_type": "code",
   "execution_count": 80,
   "metadata": {},
   "outputs": [
    {
     "data": {
      "image/png": "[encoded data removed]",
      "text/plain": [
       "<Figure size 432x288 with 1 Axes>"
      ]
     },
     "metadata": {
      "needs_background": "light"
     },
     "output_type": "display_data"
    }
   ],
   "source": [
    "#A slight improvement so I will take it.  Finally, we will observe the most predictive features \n",
    "#of the Random Forest Model.\n",
    "\n",
    "importances = clf.feature_importances_\n",
    "sorted_index = np.argsort(importances)\n",
    "\n",
    "labels = X.columns[sorted_index]\n",
    "\n",
    "plt.barh(range(X.shape[1]), importances[sorted_index], tick_label=labels)\n",
    "plt.show()"
   ]
  },
  {
   "cell_type": "markdown",
   "metadata": {},
   "source": [
    "### Average day calls drop down and Day charge looks to be the consistent major predictive feature. Customer service calls are second on the list.  It turns out that this is different than our decision tree so it was a good idea to use ensemble methods for prediction.  Now, we will try randomized search since we have 4 hyperparameters and a large amount of data. We will enter these hyperparameters into the model to see what kind of metrics we get."
   ]
  },
  {
   "cell_type": "code",
   "execution_count": 82,
   "metadata": {},
   "outputs": [
    {
     "name": "stdout",
     "output_type": "stream",
     "text": [
      "{'max_features': 'sqrt', 'max_depth': 12, 'criterion': 'entropy', 'bootstrap': False}\n"
     ]
    }
   ],
   "source": [
    "#Now, we will try randomized search since we have 4 hyperparameters and a large amount of data.\n",
    "#We will enter these hyperparameters into the model to see what kind of metrics we get.\n",
    "\n",
    "param_grid = {\"max_depth\": list(range(5, 26)),\n",
    "              \"max_features\": ['auto', 'sqrt'],\n",
    "              \"bootstrap\": [True, False],\n",
    "              \"criterion\": [\"gini\", \"entropy\"]}\n",
    "random_search = RandomizedSearchCV(clf, param_distributions = param_grid, n_iter = 5, scoring='roc_auc', cv=5, n_jobs=4, refit=True)\n",
    "random_search.fit(X, y)\n",
    "print(random_search.best_params_)"
   ]
  },
  {
   "cell_type": "code",
   "execution_count": 83,
   "metadata": {},
   "outputs": [
    {
     "name": "stdout",
     "output_type": "stream",
     "text": [
      "Training accuracy for random forest:  0.987\n",
      "Test accuracy for random forest:  0.934\n",
      "Test precision for random forest: 0.8667, Test recall for random forest: 0.6446\n",
      "Confusion Matrix for random forest: \n",
      "[[701  12]\n",
      " [ 43  78]]\n"
     ]
    },
    {
     "data": {
      "image/png": "[encoded data removed]",
      "text/plain": [
       "<Figure size 432x288 with 1 Axes>"
      ]
     },
     "metadata": {
      "needs_background": "light"
     },
     "output_type": "display_data"
    },
    {
     "name": "stdout",
     "output_type": "stream",
     "text": [
      "Area under the ROC curve for random forest:  0.9144\n",
      "F1 score for random forest:  0.7393\n"
     ]
    }
   ],
   "source": [
    "clf = RandomForestClassifier(n_estimators = 400, bootstrap = False, criterion = 'entropy', max_features = 'sqrt', max_depth = 12)\n",
    "clf.fit(X_train, y_train)\n",
    "pred_y = clf.predict(X_test)\n",
    "\n",
    "print(\"Training accuracy for random forest: \", np.round(clf.score(X_train, y_train), 3))\n",
    "print(\"Test accuracy for random forest: \", np.round(accuracy_score(y_test, pred_y), 3))\n",
    "test_precision_rf = round(precision_score(y_test, pred_y), 4)\n",
    "test_recall_rf = round(recall_score(y_test, pred_y), 4)\n",
    "print('Test precision for random forest: {}, Test recall for random forest: {}'.format(test_precision_rf, test_recall_rf))\n",
    "\n",
    "print(\"Confusion Matrix for random forest: \")\n",
    "print(confusion_matrix(y_test, pred_y))\n",
    "\n",
    "y_pred_prob = clf.predict_proba(X_test)[:, 1]\n",
    "fpr, tpr, thresholds = roc_curve(y_test, y_pred_prob)\n",
    "\n",
    "plt.plot(fpr, tpr)\n",
    "\n",
    "# Add labels and diagonal line\n",
    "plt.xlabel(\"False Positive Rate\")\n",
    "plt.ylabel(\"True Positive Rate\")\n",
    "plt.plot([0, 1], [0, 1], \"k--\")\n",
    "plt.show()\n",
    "\n",
    "#Let's take a look at the area under the ROC curve.\n",
    "\n",
    "print(\"Area under the ROC curve for random forest: \", np.round(roc_auc_score(y_test, y_pred_prob), 4))\n",
    "\n",
    "#Now we will view the F1 score which is precision and recall in a single metric.\n",
    "\n",
    "print(\"F1 score for random forest: \", np.round(f1_score(y_test, pred_y), 4))\n"
   ]
  },
  {
   "cell_type": "markdown",
   "metadata": {},
   "source": [
    "# Conclusion\n",
    "\n",
    "### The numbers for Random Search cross validation and Grid Search cross validation are very similar.  There may not be much more hyperparameter tuning that can be done but it would be interesting to see if Bayesian or Genetic methods could be used to determine the most optimum model or if a combination of randomized and grid search can be used to narrow in on certain spaces of hyperparameters and use grid search on those spaces to surely find the best model.  Still, the area under the ROC curve is above 0.91 and the F1 score, which is a relation of the precision and recall for the model is quite high at almost 0.74 although the test accuracy did not change much after raising the number of trees to 400 from the default."
   ]
  }
 ],
 "metadata": {
  "hide_input": false,
  "kernelspec": {
   "display_name": "Python 3",
   "language": "python",
   "name": "python3"
  },
  "language_info": {
   "codemirror_mode": {
    "name": "ipython",
    "version": 3
   },
   "file_extension": ".py",
   "mimetype": "text/x-python",
   "name": "python",
   "nbconvert_exporter": "python",
   "pygments_lexer": "ipython3",
   "version": "3.8.3"
  }
 },
 "nbformat": 4,
 "nbformat_minor": 4
}
