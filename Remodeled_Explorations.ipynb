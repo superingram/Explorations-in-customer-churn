{
  "nbformat": 4,
  "nbformat_minor": 0,
  "metadata": {
    "colab": {
      "name": "Remodeled Explorations.ipynb",
      "provenance": [],
      "machine_shape": "hm"
    },
    "kernelspec": {
      "name": "python3",
      "display_name": "Python 3"
    },
    "language_info": {
      "name": "python"
    },
    "accelerator": "GPU"
  },
  "cells": [
    {
      "cell_type": "markdown",
      "metadata": {
        "id": "w2gBEOiw8yLZ"
      },
      "source": [
        "# **Explorations in Churn**"
      ]
    },
    {
      "cell_type": "markdown",
      "metadata": {
        "id": "liID46o08_ZH"
      },
      "source": [
        "This file utilizes a data set regarding voluntary customer churn in the telecom industry where customers are on some sort of contract involving international phone calling plans. The data set will be prepared for data analysis, exploratory data analysis will be performed and different types of models will be created including decision tree analysis, logistic regression, support vector classifier, and a random forest with optimized hyperparameters. The most influential features of the data set will be revealed."
      ]
    },
    {
      "cell_type": "code",
      "metadata": {
        "id": "4yXknnaj8why"
      },
      "source": [
        "import numpy as np\n",
        "import pandas as pd\n",
        "import matplotlib.pyplot as plt\n",
        "import matplotlib.style as style\n",
        "import seaborn as sns\n",
        "import lazypredict\n",
        "import os\n",
        "import lightgbm as lgb\n",
        "import scipy\n",
        "import time\n",
        "import warnings\n",
        "warnings.filterwarnings('ignore')\n",
        "style.use('ggplot')\n",
        "from google.colab import files\n",
        "from scipy.stats import randint, loguniform\n",
        "from sklearn import tree\n",
        "from sklearn.metrics import classification_report, roc_curve, roc_auc_score, f1_score\n",
        "from sklearn.metrics import accuracy_score, plot_confusion_matrix\n",
        "from sklearn.tree import DecisionTreeClassifier\n",
        "from sklearn.model_selection import train_test_split, cross_val_score\n",
        "from sklearn.metrics import confusion_matrix\n",
        "from sklearn.metrics import precision_score, recall_score\n",
        "from sklearn.model_selection import RandomizedSearchCV\n",
        "from sklearn.preprocessing import StandardScaler\n",
        "from lazypredict.Supervised import LazyClassifier"
      ],
      "execution_count": 29,
      "outputs": []
    },
    {
      "cell_type": "markdown",
      "metadata": {
        "id": "bpyWw7AVAOBm"
      },
      "source": [
        "Now, we will import the data"
      ]
    },
    {
      "cell_type": "code",
      "metadata": {
        "colab": {
          "resources": {
            "http://localhost:8080/nbextensions/google.colab/files.js": {
              "data": "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",
              "ok": true,
              "headers": [
                [
                  "content-type",
                  "application/javascript"
                ]
              ],
              "status": 200,
              "status_text": ""
            }
          },
          "base_uri": "https://localhost:8080/",
          "height": 72
        },
        "id": "cFGlni_SARym",
        "outputId": "97ed3d1b-6dab-4ab6-f3af-4bf15297c308"
      },
      "source": [
        "# necessary to read files into Colab\n",
        "uploaded_files = files.upload()"
      ],
      "execution_count": 2,
      "outputs": [
        {
          "output_type": "display_data",
          "data": {
            "text/html": [
              "\n",
              "     <input type=\"file\" id=\"files-e9d48f23-8437-4e52-8ae4-32f4d638c116\" name=\"files[]\" multiple disabled\n",
              "        style=\"border:none\" />\n",
              "     <output id=\"result-e9d48f23-8437-4e52-8ae4-32f4d638c116\">\n",
              "      Upload widget is only available when the cell has been executed in the\n",
              "      current browser session. Please rerun this cell to enable.\n",
              "      </output>\n",
              "      <script src=\"/nbextensions/google.colab/files.js\"></script> "
            ],
            "text/plain": [
              "<IPython.core.display.HTML object>"
            ]
          },
          "metadata": {
            "tags": []
          }
        },
        {
          "output_type": "stream",
          "text": [
            "Saving churn.csv to churn.csv\n"
          ],
          "name": "stdout"
        }
      ]
    },
    {
      "cell_type": "code",
      "metadata": {
        "id": "PdFhVumaApDW"
      },
      "source": [
        "df = pd.read_csv('churn.csv')"
      ],
      "execution_count": 3,
      "outputs": []
    },
    {
      "cell_type": "markdown",
      "metadata": {
        "id": "RmooDN7bBJM8"
      },
      "source": [
        "You can find the churn data set that was used <a href=\"https://data.world/earino/churn\">here</a>."
      ]
    },
    {
      "cell_type": "code",
      "metadata": {
        "id": "eZJSuqczV0a6"
      },
      "source": [
        "seed=2346"
      ],
      "execution_count": 4,
      "outputs": []
    },
    {
      "cell_type": "markdown",
      "metadata": {
        "id": "vrov9PZ1Bi-4"
      },
      "source": [
        "Below is a summary of columns, size and data types of the intital data set."
      ]
    },
    {
      "cell_type": "code",
      "metadata": {
        "colab": {
          "base_uri": "https://localhost:8080/"
        },
        "id": "B2vIUDBHBk3Q",
        "outputId": "dddb7469-5ea8-4a3b-c110-94d2bfff10e8"
      },
      "source": [
        "#Explore the data\n",
        "df.info()"
      ],
      "execution_count": 5,
      "outputs": [
        {
          "output_type": "stream",
          "text": [
            "<class 'pandas.core.frame.DataFrame'>\n",
            "RangeIndex: 3333 entries, 0 to 3332\n",
            "Data columns (total 21 columns):\n",
            " #   Column          Non-Null Count  Dtype  \n",
            "---  ------          --------------  -----  \n",
            " 0   Account_Length  3333 non-null   int64  \n",
            " 1   Vmail_Message   3333 non-null   int64  \n",
            " 2   Day_Mins        3333 non-null   float64\n",
            " 3   Eve_Mins        3333 non-null   float64\n",
            " 4   Night_Mins      3333 non-null   float64\n",
            " 5   Intl_Mins       3333 non-null   float64\n",
            " 6   CustServ_Calls  3333 non-null   int64  \n",
            " 7   Churn           3333 non-null   object \n",
            " 8   Intl_Plan       3333 non-null   object \n",
            " 9   Vmail_Plan      3333 non-null   object \n",
            " 10  Day_Calls       3333 non-null   int64  \n",
            " 11  Day_Charge      3333 non-null   float64\n",
            " 12  Eve_Calls       3333 non-null   int64  \n",
            " 13  Eve_Charge      3333 non-null   float64\n",
            " 14  Night_Calls     3333 non-null   int64  \n",
            " 15  Night_Charge    3333 non-null   float64\n",
            " 16  Intl_Calls      3333 non-null   int64  \n",
            " 17  Intl_Charge     3333 non-null   float64\n",
            " 18  State           3333 non-null   object \n",
            " 19  Area_Code       3333 non-null   int64  \n",
            " 20  Phone           3333 non-null   object \n",
            "dtypes: float64(8), int64(8), object(5)\n",
            "memory usage: 546.9+ KB\n"
          ],
          "name": "stdout"
        }
      ]
    },
    {
      "cell_type": "markdown",
      "metadata": {
        "id": "1W1ImWEjBu5z"
      },
      "source": [
        "Below is the first five rows of the intital data set showing all of the intital features."
      ]
    },
    {
      "cell_type": "code",
      "metadata": {
        "colab": {
          "base_uri": "https://localhost:8080/",
          "height": 309
        },
        "id": "PanPPrbKBwae",
        "outputId": "eae008b8-c173-4eb3-fe47-7bd0eff13b13"
      },
      "source": [
        "df.head()"
      ],
      "execution_count": 6,
      "outputs": [
        {
          "output_type": "execute_result",
          "data": {
            "text/html": [
              "<div>\n",
              "<style scoped>\n",
              "    .dataframe tbody tr th:only-of-type {\n",
              "        vertical-align: middle;\n",
              "    }\n",
              "\n",
              "    .dataframe tbody tr th {\n",
              "        vertical-align: top;\n",
              "    }\n",
              "\n",
              "    .dataframe thead th {\n",
              "        text-align: right;\n",
              "    }\n",
              "</style>\n",
              "<table border=\"1\" class=\"dataframe\">\n",
              "  <thead>\n",
              "    <tr style=\"text-align: right;\">\n",
              "      <th></th>\n",
              "      <th>Account_Length</th>\n",
              "      <th>Vmail_Message</th>\n",
              "      <th>Day_Mins</th>\n",
              "      <th>Eve_Mins</th>\n",
              "      <th>Night_Mins</th>\n",
              "      <th>Intl_Mins</th>\n",
              "      <th>CustServ_Calls</th>\n",
              "      <th>Churn</th>\n",
              "      <th>Intl_Plan</th>\n",
              "      <th>Vmail_Plan</th>\n",
              "      <th>Day_Calls</th>\n",
              "      <th>Day_Charge</th>\n",
              "      <th>Eve_Calls</th>\n",
              "      <th>Eve_Charge</th>\n",
              "      <th>Night_Calls</th>\n",
              "      <th>Night_Charge</th>\n",
              "      <th>Intl_Calls</th>\n",
              "      <th>Intl_Charge</th>\n",
              "      <th>State</th>\n",
              "      <th>Area_Code</th>\n",
              "      <th>Phone</th>\n",
              "    </tr>\n",
              "  </thead>\n",
              "  <tbody>\n",
              "    <tr>\n",
              "      <th>0</th>\n",
              "      <td>128</td>\n",
              "      <td>25</td>\n",
              "      <td>265.10</td>\n",
              "      <td>197.40</td>\n",
              "      <td>244.70</td>\n",
              "      <td>10.00</td>\n",
              "      <td>1</td>\n",
              "      <td>no</td>\n",
              "      <td>no</td>\n",
              "      <td>yes</td>\n",
              "      <td>110</td>\n",
              "      <td>45.07</td>\n",
              "      <td>99</td>\n",
              "      <td>16.78</td>\n",
              "      <td>91</td>\n",
              "      <td>11.01</td>\n",
              "      <td>3</td>\n",
              "      <td>2.70</td>\n",
              "      <td>KS</td>\n",
              "      <td>415</td>\n",
              "      <td>382-4657</td>\n",
              "    </tr>\n",
              "    <tr>\n",
              "      <th>1</th>\n",
              "      <td>107</td>\n",
              "      <td>26</td>\n",
              "      <td>161.60</td>\n",
              "      <td>195.50</td>\n",
              "      <td>254.40</td>\n",
              "      <td>13.70</td>\n",
              "      <td>1</td>\n",
              "      <td>no</td>\n",
              "      <td>no</td>\n",
              "      <td>yes</td>\n",
              "      <td>123</td>\n",
              "      <td>27.47</td>\n",
              "      <td>103</td>\n",
              "      <td>16.62</td>\n",
              "      <td>103</td>\n",
              "      <td>11.45</td>\n",
              "      <td>3</td>\n",
              "      <td>3.70</td>\n",
              "      <td>OH</td>\n",
              "      <td>415</td>\n",
              "      <td>371-7191</td>\n",
              "    </tr>\n",
              "    <tr>\n",
              "      <th>2</th>\n",
              "      <td>137</td>\n",
              "      <td>0</td>\n",
              "      <td>243.40</td>\n",
              "      <td>121.20</td>\n",
              "      <td>162.60</td>\n",
              "      <td>12.20</td>\n",
              "      <td>0</td>\n",
              "      <td>no</td>\n",
              "      <td>no</td>\n",
              "      <td>no</td>\n",
              "      <td>114</td>\n",
              "      <td>41.38</td>\n",
              "      <td>110</td>\n",
              "      <td>10.30</td>\n",
              "      <td>104</td>\n",
              "      <td>7.32</td>\n",
              "      <td>5</td>\n",
              "      <td>3.29</td>\n",
              "      <td>NJ</td>\n",
              "      <td>415</td>\n",
              "      <td>358-1921</td>\n",
              "    </tr>\n",
              "    <tr>\n",
              "      <th>3</th>\n",
              "      <td>84</td>\n",
              "      <td>0</td>\n",
              "      <td>299.40</td>\n",
              "      <td>61.90</td>\n",
              "      <td>196.90</td>\n",
              "      <td>6.60</td>\n",
              "      <td>2</td>\n",
              "      <td>no</td>\n",
              "      <td>yes</td>\n",
              "      <td>no</td>\n",
              "      <td>71</td>\n",
              "      <td>50.90</td>\n",
              "      <td>88</td>\n",
              "      <td>5.26</td>\n",
              "      <td>89</td>\n",
              "      <td>8.86</td>\n",
              "      <td>7</td>\n",
              "      <td>1.78</td>\n",
              "      <td>OH</td>\n",
              "      <td>408</td>\n",
              "      <td>375-9999</td>\n",
              "    </tr>\n",
              "    <tr>\n",
              "      <th>4</th>\n",
              "      <td>75</td>\n",
              "      <td>0</td>\n",
              "      <td>166.70</td>\n",
              "      <td>148.30</td>\n",
              "      <td>186.90</td>\n",
              "      <td>10.10</td>\n",
              "      <td>3</td>\n",
              "      <td>no</td>\n",
              "      <td>yes</td>\n",
              "      <td>no</td>\n",
              "      <td>113</td>\n",
              "      <td>28.34</td>\n",
              "      <td>122</td>\n",
              "      <td>12.61</td>\n",
              "      <td>121</td>\n",
              "      <td>8.41</td>\n",
              "      <td>3</td>\n",
              "      <td>2.73</td>\n",
              "      <td>OK</td>\n",
              "      <td>415</td>\n",
              "      <td>330-6626</td>\n",
              "    </tr>\n",
              "  </tbody>\n",
              "</table>\n",
              "</div>"
            ],
            "text/plain": [
              "   Account_Length  Vmail_Message  Day_Mins  ...  State  Area_Code     Phone\n",
              "0             128             25    265.10  ...     KS        415  382-4657\n",
              "1             107             26    161.60  ...     OH        415  371-7191\n",
              "2             137              0    243.40  ...     NJ        415  358-1921\n",
              "3              84              0    299.40  ...     OH        408  375-9999\n",
              "4              75              0    166.70  ...     OK        415  330-6626\n",
              "\n",
              "[5 rows x 21 columns]"
            ]
          },
          "metadata": {
            "tags": []
          },
          "execution_count": 6
        }
      ]
    },
    {
      "cell_type": "markdown",
      "metadata": {
        "id": "QL9uX2zXB2Kw"
      },
      "source": [
        "Wow, there are lot of features in this data set!  Let's see if we can get rid of some of them as we only have 3333 rows to work with. This tells us a great deal already as there are no missing values, our target has been identified as Churn, and there are some object variables that need to be converted.  Phone and Area Code can be dropped so let's do that now."
      ]
    },
    {
      "cell_type": "code",
      "metadata": {
        "id": "zWyQ8l9TCd01"
      },
      "source": [
        "df = df.drop(['Area_Code', 'Phone'], axis = 1)"
      ],
      "execution_count": 7,
      "outputs": []
    },
    {
      "cell_type": "markdown",
      "metadata": {
        "id": "923YpcRXCiKv"
      },
      "source": [
        "There are object columns that have to be converted to numeric for modeling unless we want to use a decision tree. Single trees are great for EDA and visualization but have poor predictive power. One of these values is the State variable. Let's take a look at it to see if this could be a relative variable. One-hot encoding is not an option here."
      ]
    },
    {
      "cell_type": "code",
      "metadata": {
        "colab": {
          "base_uri": "https://localhost:8080/",
          "height": 897
        },
        "id": "5EfZJE9GDIb-",
        "outputId": "e88de344-e25f-49ba-dbf1-b42683be04d8"
      },
      "source": [
        "plt.figure(figsize=(10,15))\n",
        "\n",
        "sns.countplot(y = 'State', data = df, order=df.State.value_counts().index)\n",
        "plt.title('Customers by State')\n",
        "plt.xlabel('Count')\n",
        "\n",
        "plt.show()"
      ],
      "execution_count": 8,
      "outputs": [
        {
          "output_type": "display_data",
          "data": {
            "image/png": "[encoded data removed]",
            "text/plain": [
              "<Figure size 720x1080 with 1 Axes>"
            ]
          },
          "metadata": {
            "tags": [],
            "needs_background": "light"
          }
        }
      ]
    },
    {
      "cell_type": "markdown",
      "metadata": {
        "id": "jDYtdAM5NDM8"
      },
      "source": [
        "There does seem to be some variability by state but no real trend per region.  We will drop the state variable as well.  Let's see about the percentage of churn vs. no churn. If the percentage is below 5% then we may have an overfitting problem."
      ]
    },
    {
      "cell_type": "code",
      "metadata": {
        "colab": {
          "base_uri": "https://localhost:8080/"
        },
        "id": "Q6NXPJssNwoE",
        "outputId": "c7fb6127-4b1d-4ec1-ebb0-7742732463e7"
      },
      "source": [
        "print(df.groupby(['Churn']).size() / df.shape[0] * 100)"
      ],
      "execution_count": 9,
      "outputs": [
        {
          "output_type": "stream",
          "text": [
            "Churn\n",
            "no    85.51\n",
            "yes   14.49\n",
            "dtype: float64\n"
          ],
          "name": "stdout"
        }
      ]
    },
    {
      "cell_type": "markdown",
      "metadata": {
        "id": "IcxlewLdN8PA"
      },
      "source": [
        "Only around 14% of the samples have churned which is not ideal but we should be able to model the data. We may have to stratify the train and test split here. Before we convert the categorical variables, let's do some feature engineering because there are some columns that may need to be combined or eliminated. The International, daytime, night time and evening call minutes can be divided by their respective total calls for average call minutes per call and let's check the columns/indexes."
      ]
    },
    {
      "cell_type": "code",
      "metadata": {
        "colab": {
          "base_uri": "https://localhost:8080/"
        },
        "id": "eTAFCFRDOFjm",
        "outputId": "1a39f6bc-02a2-4181-c4cc-4981d1b0874e"
      },
      "source": [
        "df['Avg_Day_Calls'] = df['Day_Mins'] / df['Day_Calls']\n",
        "df['Avg_Eve_Calls'] = df['Eve_Mins'] / df['Eve_Calls']\n",
        "df['Avg_Intl_Calls'] = df['Intl_Mins'] / df['Intl_Calls']\n",
        "df['Avg_Night_Calls'] = df['Night_Mins'] / df['Night_Calls']\n",
        "\n",
        "#And let's check the columns/indexes\n",
        "\n",
        "print(df.columns)"
      ],
      "execution_count": 10,
      "outputs": [
        {
          "output_type": "stream",
          "text": [
            "Index(['Account_Length', 'Vmail_Message', 'Day_Mins', 'Eve_Mins', 'Night_Mins',\n",
            "       'Intl_Mins', 'CustServ_Calls', 'Churn', 'Intl_Plan', 'Vmail_Plan',\n",
            "       'Day_Calls', 'Day_Charge', 'Eve_Calls', 'Eve_Charge', 'Night_Calls',\n",
            "       'Night_Charge', 'Intl_Calls', 'Intl_Charge', 'State', 'Avg_Day_Calls',\n",
            "       'Avg_Eve_Calls', 'Avg_Intl_Calls', 'Avg_Night_Calls'],\n",
            "      dtype='object')\n"
          ],
          "name": "stdout"
        }
      ]
    },
    {
      "cell_type": "markdown",
      "metadata": {
        "id": "1Rb3zke8OH-2"
      },
      "source": [
        "Now, we can create a new dataframe with the previous features dropped by subetting. That way if there is an error, we can revert back to the original df."
      ]
    },
    {
      "cell_type": "code",
      "metadata": {
        "colab": {
          "base_uri": "https://localhost:8080/",
          "height": 204
        },
        "id": "al_7mD3POQ3U",
        "outputId": "9789dcc5-144f-45c7-a740-e83620a6e612"
      },
      "source": [
        "df_new = df[['Account_Length', 'Vmail_Message', 'CustServ_Calls', 'Churn', 'Intl_Plan', 'Vmail_Plan', 'Day_Charge', 'Eve_Charge',\n",
        "       'Night_Charge', 'Intl_Charge', 'State', 'Avg_Day_Calls',\n",
        "       'Avg_Eve_Calls', 'Avg_Intl_Calls', 'Avg_Night_Calls' ]]\n",
        "df_new.head()"
      ],
      "execution_count": 11,
      "outputs": [
        {
          "output_type": "execute_result",
          "data": {
            "text/html": [
              "<div>\n",
              "<style scoped>\n",
              "    .dataframe tbody tr th:only-of-type {\n",
              "        vertical-align: middle;\n",
              "    }\n",
              "\n",
              "    .dataframe tbody tr th {\n",
              "        vertical-align: top;\n",
              "    }\n",
              "\n",
              "    .dataframe thead th {\n",
              "        text-align: right;\n",
              "    }\n",
              "</style>\n",
              "<table border=\"1\" class=\"dataframe\">\n",
              "  <thead>\n",
              "    <tr style=\"text-align: right;\">\n",
              "      <th></th>\n",
              "      <th>Account_Length</th>\n",
              "      <th>Vmail_Message</th>\n",
              "      <th>CustServ_Calls</th>\n",
              "      <th>Churn</th>\n",
              "      <th>Intl_Plan</th>\n",
              "      <th>Vmail_Plan</th>\n",
              "      <th>Day_Charge</th>\n",
              "      <th>Eve_Charge</th>\n",
              "      <th>Night_Charge</th>\n",
              "      <th>Intl_Charge</th>\n",
              "      <th>State</th>\n",
              "      <th>Avg_Day_Calls</th>\n",
              "      <th>Avg_Eve_Calls</th>\n",
              "      <th>Avg_Intl_Calls</th>\n",
              "      <th>Avg_Night_Calls</th>\n",
              "    </tr>\n",
              "  </thead>\n",
              "  <tbody>\n",
              "    <tr>\n",
              "      <th>0</th>\n",
              "      <td>128</td>\n",
              "      <td>25</td>\n",
              "      <td>1</td>\n",
              "      <td>no</td>\n",
              "      <td>no</td>\n",
              "      <td>yes</td>\n",
              "      <td>45.07</td>\n",
              "      <td>16.78</td>\n",
              "      <td>11.01</td>\n",
              "      <td>2.70</td>\n",
              "      <td>KS</td>\n",
              "      <td>2.41</td>\n",
              "      <td>1.99</td>\n",
              "      <td>3.33</td>\n",
              "      <td>2.69</td>\n",
              "    </tr>\n",
              "    <tr>\n",
              "      <th>1</th>\n",
              "      <td>107</td>\n",
              "      <td>26</td>\n",
              "      <td>1</td>\n",
              "      <td>no</td>\n",
              "      <td>no</td>\n",
              "      <td>yes</td>\n",
              "      <td>27.47</td>\n",
              "      <td>16.62</td>\n",
              "      <td>11.45</td>\n",
              "      <td>3.70</td>\n",
              "      <td>OH</td>\n",
              "      <td>1.31</td>\n",
              "      <td>1.90</td>\n",
              "      <td>4.57</td>\n",
              "      <td>2.47</td>\n",
              "    </tr>\n",
              "    <tr>\n",
              "      <th>2</th>\n",
              "      <td>137</td>\n",
              "      <td>0</td>\n",
              "      <td>0</td>\n",
              "      <td>no</td>\n",
              "      <td>no</td>\n",
              "      <td>no</td>\n",
              "      <td>41.38</td>\n",
              "      <td>10.30</td>\n",
              "      <td>7.32</td>\n",
              "      <td>3.29</td>\n",
              "      <td>NJ</td>\n",
              "      <td>2.14</td>\n",
              "      <td>1.10</td>\n",
              "      <td>2.44</td>\n",
              "      <td>1.56</td>\n",
              "    </tr>\n",
              "    <tr>\n",
              "      <th>3</th>\n",
              "      <td>84</td>\n",
              "      <td>0</td>\n",
              "      <td>2</td>\n",
              "      <td>no</td>\n",
              "      <td>yes</td>\n",
              "      <td>no</td>\n",
              "      <td>50.90</td>\n",
              "      <td>5.26</td>\n",
              "      <td>8.86</td>\n",
              "      <td>1.78</td>\n",
              "      <td>OH</td>\n",
              "      <td>4.22</td>\n",
              "      <td>0.70</td>\n",
              "      <td>0.94</td>\n",
              "      <td>2.21</td>\n",
              "    </tr>\n",
              "    <tr>\n",
              "      <th>4</th>\n",
              "      <td>75</td>\n",
              "      <td>0</td>\n",
              "      <td>3</td>\n",
              "      <td>no</td>\n",
              "      <td>yes</td>\n",
              "      <td>no</td>\n",
              "      <td>28.34</td>\n",
              "      <td>12.61</td>\n",
              "      <td>8.41</td>\n",
              "      <td>2.73</td>\n",
              "      <td>OK</td>\n",
              "      <td>1.48</td>\n",
              "      <td>1.22</td>\n",
              "      <td>3.37</td>\n",
              "      <td>1.54</td>\n",
              "    </tr>\n",
              "  </tbody>\n",
              "</table>\n",
              "</div>"
            ],
            "text/plain": [
              "   Account_Length  Vmail_Message  ...  Avg_Intl_Calls Avg_Night_Calls\n",
              "0             128             25  ...            3.33            2.69\n",
              "1             107             26  ...            4.57            2.47\n",
              "2             137              0  ...            2.44            1.56\n",
              "3              84              0  ...            0.94            2.21\n",
              "4              75              0  ...            3.37            1.54\n",
              "\n",
              "[5 rows x 15 columns]"
            ]
          },
          "metadata": {
            "tags": []
          },
          "execution_count": 11
        }
      ]
    },
    {
      "cell_type": "markdown",
      "metadata": {
        "id": "JvdsqJFNOq89"
      },
      "source": [
        "Looking good, now for exploratory data analysis (EDA)."
      ]
    },
    {
      "cell_type": "markdown",
      "metadata": {
        "id": "RYoNUCgtO2pU"
      },
      "source": [
        "### **Exploratory Data Analysis**"
      ]
    },
    {
      "cell_type": "code",
      "metadata": {
        "colab": {
          "base_uri": "https://localhost:8080/",
          "height": 609
        },
        "id": "jcEkN3VzO-H0",
        "outputId": "1d5f6fe0-2d41-454d-ff91-250a5f8c74f3"
      },
      "source": [
        "df_new.hist(figsize=(10,10))\n",
        "plt.subplots_adjust(hspace=0.5);"
      ],
      "execution_count": 12,
      "outputs": [
        {
          "output_type": "display_data",
          "data": {
            "image/png": "[encoded data removed]",
            "text/plain": [
              "<Figure size 720x720 with 12 Axes>"
            ]
          },
          "metadata": {
            "tags": [],
            "needs_background": "light"
          }
        }
      ]
    },
    {
      "cell_type": "markdown",
      "metadata": {
        "id": "HKvbjaa8PQ_V"
      },
      "source": [
        "Some of these values have a normal distribution but some are skewed, namely our new features. Voicemail messages appear more categorical but let's check if they are relevant to the target first. We will need to standardize the numerical variabes."
      ]
    },
    {
      "cell_type": "code",
      "metadata": {
        "colab": {
          "base_uri": "https://localhost:8080/"
        },
        "id": "WZq7-y50QwaE",
        "outputId": "f43e31f2-504b-4617-960c-b313936e3da8"
      },
      "source": [
        "print(df_new.nunique())"
      ],
      "execution_count": 13,
      "outputs": [
        {
          "output_type": "stream",
          "text": [
            "Account_Length      212\n",
            "Vmail_Message        46\n",
            "CustServ_Calls       10\n",
            "Churn                 2\n",
            "Intl_Plan             2\n",
            "Vmail_Plan            2\n",
            "Day_Charge         1667\n",
            "Eve_Charge         1440\n",
            "Night_Charge        933\n",
            "Intl_Charge         162\n",
            "State                51\n",
            "Avg_Day_Calls      3259\n",
            "Avg_Eve_Calls      3253\n",
            "Avg_Intl_Calls      781\n",
            "Avg_Night_Calls    3244\n",
            "dtype: int64\n"
          ],
          "name": "stdout"
        }
      ]
    },
    {
      "cell_type": "markdown",
      "metadata": {
        "id": "vdTRHUL9Q6cA"
      },
      "source": [
        "Essentially, what we see here is that Intl_Plan, Vmail_Plan and State are our categorical variables. Churn is our target and should be removed before modeling. First, the numerical fields will be standardized or scaled using StandardScaler by removing the categorical variables. For now, the target will remain so we can run a Decision Tree model."
      ]
    },
    {
      "cell_type": "code",
      "metadata": {
        "id": "GLtSAwVQQ9V_"
      },
      "source": [
        "#Separating categorical and numeric variables.\n",
        "state = ['State']\n",
        "cat = df_new.nunique()[df_new.nunique() < 3].keys().tolist()\n",
        "numerical = [x for x in df_new.columns if x not in cat + state]"
      ],
      "execution_count": 14,
      "outputs": []
    },
    {
      "cell_type": "code",
      "metadata": {
        "id": "MWuLQoFBRrPw"
      },
      "source": [
        "#Here, we will scale the numerical data.\n",
        "\n",
        "scaler = StandardScaler()\n",
        "df_scaled = scaler.fit_transform(df_new[numerical])\n",
        "df_scaled = pd.DataFrame(df_scaled, columns=numerical)"
      ],
      "execution_count": 15,
      "outputs": []
    },
    {
      "cell_type": "markdown",
      "metadata": {
        "id": "6wKhSfnvRvj7"
      },
      "source": [
        "We will merge categorical and numerical variables back together in a final dataframe and make categorical variables binary. The state data will be omitted as the previous graph shows only limited variability."
      ]
    },
    {
      "cell_type": "code",
      "metadata": {
        "colab": {
          "base_uri": "https://localhost:8080/"
        },
        "id": "fhasmjY3Rwpt",
        "outputId": "e56c8ba3-cf42-4d0e-9e78-d83592aecf71"
      },
      "source": [
        "categorical = df_new[['Churn', 'Intl_Plan', 'Vmail_Plan']]\n",
        "dff = pd.concat([categorical, df_scaled], axis = 1)\n",
        "dff.info()"
      ],
      "execution_count": 16,
      "outputs": [
        {
          "output_type": "stream",
          "text": [
            "<class 'pandas.core.frame.DataFrame'>\n",
            "RangeIndex: 3333 entries, 0 to 3332\n",
            "Data columns (total 14 columns):\n",
            " #   Column           Non-Null Count  Dtype  \n",
            "---  ------           --------------  -----  \n",
            " 0   Churn            3333 non-null   object \n",
            " 1   Intl_Plan        3333 non-null   object \n",
            " 2   Vmail_Plan       3333 non-null   object \n",
            " 3   Account_Length   3333 non-null   float64\n",
            " 4   Vmail_Message    3333 non-null   float64\n",
            " 5   CustServ_Calls   3333 non-null   float64\n",
            " 6   Day_Charge       3333 non-null   float64\n",
            " 7   Eve_Charge       3333 non-null   float64\n",
            " 8   Night_Charge     3333 non-null   float64\n",
            " 9   Intl_Charge      3333 non-null   float64\n",
            " 10  Avg_Day_Calls    3331 non-null   float64\n",
            " 11  Avg_Eve_Calls    3332 non-null   float64\n",
            " 12  Avg_Intl_Calls   3315 non-null   float64\n",
            " 13  Avg_Night_Calls  3333 non-null   float64\n",
            "dtypes: float64(11), object(3)\n",
            "memory usage: 364.7+ KB\n"
          ],
          "name": "stdout"
        }
      ]
    },
    {
      "cell_type": "markdown",
      "metadata": {
        "id": "iEJZc-kfSYW6"
      },
      "source": [
        "The data set is now ready for modeling.  Now we will convert our categorical variables and our target into binary variables and call a Decision Tree for EDA."
      ]
    },
    {
      "cell_type": "code",
      "metadata": {
        "id": "JNpQiHtXSc7Z"
      },
      "source": [
        "dff['Vmail_Plan'] = dff['Vmail_Plan'].replace({'no':0, 'yes':1})\n",
        "dff['Intl_Plan'] = dff['Intl_Plan'].replace({'no':0, 'yes':1})\n",
        "dff['Churn'] = dff['Churn'].replace({'no':0, 'yes':1})"
      ],
      "execution_count": 17,
      "outputs": []
    },
    {
      "cell_type": "code",
      "metadata": {
        "colab": {
          "base_uri": "https://localhost:8080/",
          "height": 204
        },
        "id": "UJ79rJPYSlAE",
        "outputId": "a3a794fc-dcb2-4086-b215-b3b9a029d3e0"
      },
      "source": [
        "#Checking the data with head() to ensure that we are ready for modeling.\n",
        "dff.head()"
      ],
      "execution_count": 18,
      "outputs": [
        {
          "output_type": "execute_result",
          "data": {
            "text/html": [
              "<div>\n",
              "<style scoped>\n",
              "    .dataframe tbody tr th:only-of-type {\n",
              "        vertical-align: middle;\n",
              "    }\n",
              "\n",
              "    .dataframe tbody tr th {\n",
              "        vertical-align: top;\n",
              "    }\n",
              "\n",
              "    .dataframe thead th {\n",
              "        text-align: right;\n",
              "    }\n",
              "</style>\n",
              "<table border=\"1\" class=\"dataframe\">\n",
              "  <thead>\n",
              "    <tr style=\"text-align: right;\">\n",
              "      <th></th>\n",
              "      <th>Churn</th>\n",
              "      <th>Intl_Plan</th>\n",
              "      <th>Vmail_Plan</th>\n",
              "      <th>Account_Length</th>\n",
              "      <th>Vmail_Message</th>\n",
              "      <th>CustServ_Calls</th>\n",
              "      <th>Day_Charge</th>\n",
              "      <th>Eve_Charge</th>\n",
              "      <th>Night_Charge</th>\n",
              "      <th>Intl_Charge</th>\n",
              "      <th>Avg_Day_Calls</th>\n",
              "      <th>Avg_Eve_Calls</th>\n",
              "      <th>Avg_Intl_Calls</th>\n",
              "      <th>Avg_Night_Calls</th>\n",
              "    </tr>\n",
              "  </thead>\n",
              "  <tbody>\n",
              "    <tr>\n",
              "      <th>0</th>\n",
              "      <td>0</td>\n",
              "      <td>0</td>\n",
              "      <td>1</td>\n",
              "      <td>0.68</td>\n",
              "      <td>1.23</td>\n",
              "      <td>-0.43</td>\n",
              "      <td>1.57</td>\n",
              "      <td>-0.07</td>\n",
              "      <td>0.87</td>\n",
              "      <td>-0.09</td>\n",
              "      <td>0.73</td>\n",
              "      <td>-0.14</td>\n",
              "      <td>0.10</td>\n",
              "      <td>0.84</td>\n",
              "    </tr>\n",
              "    <tr>\n",
              "      <th>1</th>\n",
              "      <td>0</td>\n",
              "      <td>0</td>\n",
              "      <td>1</td>\n",
              "      <td>0.15</td>\n",
              "      <td>1.31</td>\n",
              "      <td>-0.43</td>\n",
              "      <td>-0.33</td>\n",
              "      <td>-0.11</td>\n",
              "      <td>1.06</td>\n",
              "      <td>1.24</td>\n",
              "      <td>-0.76</td>\n",
              "      <td>-0.27</td>\n",
              "      <td>0.64</td>\n",
              "      <td>0.53</td>\n",
              "    </tr>\n",
              "    <tr>\n",
              "      <th>2</th>\n",
              "      <td>0</td>\n",
              "      <td>0</td>\n",
              "      <td>0</td>\n",
              "      <td>0.90</td>\n",
              "      <td>-0.59</td>\n",
              "      <td>-1.19</td>\n",
              "      <td>1.17</td>\n",
              "      <td>-1.57</td>\n",
              "      <td>-0.76</td>\n",
              "      <td>0.70</td>\n",
              "      <td>0.36</td>\n",
              "      <td>-1.29</td>\n",
              "      <td>-0.30</td>\n",
              "      <td>-0.74</td>\n",
              "    </tr>\n",
              "    <tr>\n",
              "      <th>3</th>\n",
              "      <td>0</td>\n",
              "      <td>1</td>\n",
              "      <td>0</td>\n",
              "      <td>-0.43</td>\n",
              "      <td>-0.59</td>\n",
              "      <td>0.33</td>\n",
              "      <td>2.20</td>\n",
              "      <td>-2.74</td>\n",
              "      <td>-0.08</td>\n",
              "      <td>-1.31</td>\n",
              "      <td>3.21</td>\n",
              "      <td>-1.81</td>\n",
              "      <td>-0.96</td>\n",
              "      <td>0.17</td>\n",
              "    </tr>\n",
              "    <tr>\n",
              "      <th>4</th>\n",
              "      <td>0</td>\n",
              "      <td>1</td>\n",
              "      <td>0</td>\n",
              "      <td>-0.65</td>\n",
              "      <td>-0.59</td>\n",
              "      <td>1.09</td>\n",
              "      <td>-0.24</td>\n",
              "      <td>-1.04</td>\n",
              "      <td>-0.28</td>\n",
              "      <td>-0.05</td>\n",
              "      <td>-0.54</td>\n",
              "      <td>-1.15</td>\n",
              "      <td>0.11</td>\n",
              "      <td>-0.77</td>\n",
              "    </tr>\n",
              "  </tbody>\n",
              "</table>\n",
              "</div>"
            ],
            "text/plain": [
              "   Churn  Intl_Plan  Vmail_Plan  ...  Avg_Eve_Calls  Avg_Intl_Calls  Avg_Night_Calls\n",
              "0      0          0           1  ...          -0.14            0.10             0.84\n",
              "1      0          0           1  ...          -0.27            0.64             0.53\n",
              "2      0          0           0  ...          -1.29           -0.30            -0.74\n",
              "3      0          1           0  ...          -1.81           -0.96             0.17\n",
              "4      0          1           0  ...          -1.15            0.11            -0.77\n",
              "\n",
              "[5 rows x 14 columns]"
            ]
          },
          "metadata": {
            "tags": []
          },
          "execution_count": 18
        }
      ]
    },
    {
      "cell_type": "markdown",
      "metadata": {
        "id": "Tlfb8g3dStNs"
      },
      "source": [
        "Now, we will define our target as X and the rest of dff as y and run a decision tree. This will be used for plotting and visualization as opposed to assessing model performance. We will try a test size of 1/4 and check the split. "
      ]
    },
    {
      "cell_type": "code",
      "metadata": {
        "colab": {
          "base_uri": "https://localhost:8080/"
        },
        "id": "CMPZxq8vTJl7",
        "outputId": "653a4bb7-d6b0-4d1b-c8c0-2d086b059012"
      },
      "source": [
        "y = dff['Churn']\n",
        "X = dff.drop(['Churn'], axis=1)\n",
        "\n",
        "X.replace([np.inf, -np.inf], np.nan, inplace=True)\n",
        "X.fillna(X.mean(), inplace=True)\n",
        "\n",
        "X_train, X_test, y_train, y_test = train_test_split(X, y, test_size=0.25, stratify=y, random_state=seed)\n",
        "print(X_train.shape[0] / X.shape[0])\n",
        "print(X_test.shape[0] / X.shape[0])"
      ],
      "execution_count": 19,
      "outputs": [
        {
          "output_type": "stream",
          "text": [
            "0.7497749774977498\n",
            "0.2502250225022502\n"
          ],
          "name": "stdout"
        }
      ]
    },
    {
      "cell_type": "markdown",
      "metadata": {
        "id": "tNKtvC_BTOW8"
      },
      "source": [
        "Looks like the kind of training and test split that we want.  Let's see what kind of tree we can get and what features the tree displays as important."
      ]
    },
    {
      "cell_type": "code",
      "metadata": {
        "colab": {
          "base_uri": "https://localhost:8080/"
        },
        "id": "kTm08w3FTUpe",
        "outputId": "787b3fee-0f0f-43ad-9c64-e1510432924d"
      },
      "source": [
        "clf = tree.DecisionTreeClassifier(max_depth = 7, criterion = 'gini', splitter = 'best')\n",
        "modelT = clf.fit(X_train, y_train)\n",
        "pred_y = modelT.predict(X_test)\n",
        "print(\"Training accuracy: \", np.round(clf.score(X_train, y_train), 3))\n",
        "print(\"Test accuracy: \", np.round(accuracy_score(y_test, pred_y), 3))"
      ],
      "execution_count": 20,
      "outputs": [
        {
          "output_type": "stream",
          "text": [
            "Training accuracy:  0.972\n",
            "Test accuracy:  0.929\n"
          ],
          "name": "stdout"
        }
      ]
    },
    {
      "cell_type": "markdown",
      "metadata": {
        "id": "pRNmhZ-ATng-"
      },
      "source": [
        "Wow, that is an awesome test accuracy!  Let's check precision and recall."
      ]
    },
    {
      "cell_type": "code",
      "metadata": {
        "colab": {
          "base_uri": "https://localhost:8080/"
        },
        "id": "w8-odZ6OTzm_",
        "outputId": "226b1954-f464-476b-ce6d-f6b9b7be5f24"
      },
      "source": [
        "test_precision = round(precision_score(y_test, pred_y), 4)\n",
        "test_recall = round(recall_score(y_test, pred_y), 4)\n",
        "print('Test precision: {}, Test recall: {}'.format(test_precision, test_recall))"
      ],
      "execution_count": 21,
      "outputs": [
        {
          "output_type": "stream",
          "text": [
            "Test precision: 0.8163, Test recall: 0.6612\n"
          ],
          "name": "stdout"
        }
      ]
    },
    {
      "cell_type": "markdown",
      "metadata": {
        "id": "LBOpJ9kqT_Ar"
      },
      "source": [
        "That is a pretty good precision and recall.  Let's optimize the tree first."
      ]
    },
    {
      "cell_type": "code",
      "metadata": {
        "colab": {
          "base_uri": "https://localhost:8080/"
        },
        "id": "e0N7lRauUGpL",
        "outputId": "4ab57e03-d5e9-4b89-9da3-cf707b7c92ff"
      },
      "source": [
        "depth_list = list(range(2, 15))\n",
        "depth_tuning = np.zeros((len(depth_list), 4))\n",
        "depth_tuning[:,0] = depth_list\n",
        "for index in range(len(depth_list)):\n",
        "    clf = DecisionTreeClassifier(max_depth=depth_list[index])\n",
        "    clf.fit(X_train, y_train)\n",
        "    pred_y = clf.predict(X_test)\n",
        "    depth_tuning[index,1] = accuracy_score(y_test, pred_y)\n",
        "    depth_tuning[index,2] = precision_score(y_test, pred_y)\n",
        "    depth_tuning[index,3] = recall_score(y_test, pred_y)\n",
        "col_names = ['Max_Depth', 'Accuracy', 'Precision', 'Recall']\n",
        "print(pd.DataFrame(depth_tuning, columns=col_names))"
      ],
      "execution_count": 22,
      "outputs": [
        {
          "output_type": "stream",
          "text": [
            "    Max_Depth  Accuracy  Precision  Recall\n",
            "0        2.00      0.87       0.69    0.18\n",
            "1        3.00      0.88       0.69    0.36\n",
            "2        4.00      0.92       0.88    0.49\n",
            "3        5.00      0.93       0.84    0.64\n",
            "4        6.00      0.94       0.86    0.68\n",
            "5        7.00      0.93       0.80    0.69\n",
            "6        8.00      0.93       0.78    0.68\n",
            "7        9.00      0.93       0.80    0.69\n",
            "8       10.00      0.92       0.77    0.69\n",
            "9       11.00      0.93       0.79    0.69\n",
            "10      12.00      0.93       0.80    0.69\n",
            "11      13.00      0.92       0.75    0.70\n",
            "12      14.00      0.92       0.74    0.69\n"
          ],
          "name": "stdout"
        }
      ]
    },
    {
      "cell_type": "markdown",
      "metadata": {
        "id": "1nhgexwrUd1K"
      },
      "source": [
        "We can see that somewhere between 3 and 8 is advantageous. Let's try a tree depth of 3. Next, we will determine which features the decision tree finds to be most influential and plot the tree."
      ]
    },
    {
      "cell_type": "code",
      "metadata": {
        "colab": {
          "base_uri": "https://localhost:8080/",
          "height": 1000
        },
        "id": "JQAKjeabUf4r",
        "outputId": "87291512-a6e8-4c27-b937-b89866efe7f9"
      },
      "source": [
        "clf = tree.DecisionTreeClassifier(max_depth = 3, criterion = 'gini', splitter = 'best')\n",
        "modelT = clf.fit(X_train, y_train)\n",
        "fig = plt.figure(figsize=(25,20))\n",
        "tree.plot_tree(clf, feature_names = ['Churn', 'Intl_Plan', 'Vmail_Plan', 'Account_Length', 'Vmail_Message', 'CustServ_Calls', 'Day_Charge', 'Eve_Charge',\n",
        "       'Night_Charge', 'Intl_Charge', 'Avg_Day_Calls',\n",
        "       'Avg_Eve_Calls', 'Avg_Intl_Calls', 'Avg_Night_Calls'], filled=True)"
      ],
      "execution_count": 23,
      "outputs": [
        {
          "output_type": "execute_result",
          "data": {
            "text/plain": [
              "[Text(697.5, 951.3000000000001, 'Vmail_Message <= 1.473\\ngini = 0.248\\nsamples = 2499\\nvalue = [2137, 362]'),\n",
              " Text(348.75, 679.5, 'CustServ_Calls <= 1.228\\ngini = 0.198\\nsamples = 2294\\nvalue = [2038, 256]'),\n",
              " Text(174.375, 407.70000000000005, 'Churn <= 0.5\\ngini = 0.132\\nsamples = 2049\\nvalue = [1903, 146]'),\n",
              " Text(87.1875, 135.89999999999998, 'gini = 0.082\\nsamples = 1866\\nvalue = [1786, 80]'),\n",
              " Text(261.5625, 135.89999999999998, 'gini = 0.461\\nsamples = 183\\nvalue = [117, 66]'),\n",
              " Text(523.125, 407.70000000000005, 'Day_Charge <= 0.068\\ngini = 0.495\\nsamples = 245\\nvalue = [135, 110]'),\n",
              " Text(435.9375, 135.89999999999998, 'gini = 0.322\\nsamples = 124\\nvalue = [99, 25]'),\n",
              " Text(610.3125, 135.89999999999998, 'gini = 0.418\\nsamples = 121\\nvalue = [36, 85]'),\n",
              " Text(1046.25, 679.5, 'CustServ_Calls <= -0.1\\ngini = 0.499\\nsamples = 205\\nvalue = [99, 106]'),\n",
              " Text(871.875, 407.70000000000005, 'Day_Charge <= 0.637\\ngini = 0.303\\nsamples = 102\\nvalue = [19, 83]'),\n",
              " Text(784.6875, 135.89999999999998, 'gini = 0.162\\nsamples = 79\\nvalue = [7, 72]'),\n",
              " Text(959.0625, 135.89999999999998, 'gini = 0.499\\nsamples = 23\\nvalue = [12, 11]'),\n",
              " Text(1220.625, 407.70000000000005, 'Day_Charge <= -1.311\\ngini = 0.347\\nsamples = 103\\nvalue = [80, 23]'),\n",
              " Text(1133.4375, 135.89999999999998, 'gini = 0.463\\nsamples = 11\\nvalue = [4, 7]'),\n",
              " Text(1307.8125, 135.89999999999998, 'gini = 0.287\\nsamples = 92\\nvalue = [76, 16]')]"
            ]
          },
          "metadata": {
            "tags": []
          },
          "execution_count": 23
        },
        {
          "output_type": "display_data",
          "data": {
            "image/png": "[encoded data removed]",
            "text/plain": [
              "<Figure size 1800x1440 with 1 Axes>"
            ]
          },
          "metadata": {
            "tags": [],
            "needs_background": "light"
          }
        }
      ]
    },
    {
      "cell_type": "markdown",
      "metadata": {
        "id": "kwzTYrHZUtps"
      },
      "source": [
        "It looks like the tree split on voice mail messages first and then on customer service calls and daytime charges. This is only one tree though so other models will be explored but it is good to take a first look. On to modeling and the lazy predict classifier that will tell us what machine learning algorithms to consider.  From there, we can determine where we can use information to determine best features."
      ]
    },
    {
      "cell_type": "markdown",
      "metadata": {
        "id": "jPUpIdeOVQ_8"
      },
      "source": [
        "### **Modeling**"
      ]
    },
    {
      "cell_type": "code",
      "metadata": {
        "colab": {
          "base_uri": "https://localhost:8080/",
          "height": 903
        },
        "id": "U93CK4dlVVDa",
        "outputId": "808c7a57-de4d-4fbf-867a-ad18036f7f06"
      },
      "source": [
        "lazy = LazyClassifier(verbose=0,ignore_warnings=True, custom_metric=None)\n",
        "models,predictions = lazy.fit(X_train, X_test, y_train, y_test)\n",
        "\n",
        "models"
      ],
      "execution_count": 24,
      "outputs": [
        {
          "output_type": "stream",
          "text": [
            "100%|██████████| 29/29 [00:04<00:00,  6.84it/s]\n"
          ],
          "name": "stderr"
        },
        {
          "output_type": "execute_result",
          "data": {
            "text/html": [
              "<div>\n",
              "<style scoped>\n",
              "    .dataframe tbody tr th:only-of-type {\n",
              "        vertical-align: middle;\n",
              "    }\n",
              "\n",
              "    .dataframe tbody tr th {\n",
              "        vertical-align: top;\n",
              "    }\n",
              "\n",
              "    .dataframe thead th {\n",
              "        text-align: right;\n",
              "    }\n",
              "</style>\n",
              "<table border=\"1\" class=\"dataframe\">\n",
              "  <thead>\n",
              "    <tr style=\"text-align: right;\">\n",
              "      <th></th>\n",
              "      <th>Accuracy</th>\n",
              "      <th>Balanced Accuracy</th>\n",
              "      <th>ROC AUC</th>\n",
              "      <th>F1 Score</th>\n",
              "      <th>Time Taken</th>\n",
              "    </tr>\n",
              "    <tr>\n",
              "      <th>Model</th>\n",
              "      <th></th>\n",
              "      <th></th>\n",
              "      <th></th>\n",
              "      <th></th>\n",
              "      <th></th>\n",
              "    </tr>\n",
              "  </thead>\n",
              "  <tbody>\n",
              "    <tr>\n",
              "      <th>LGBMClassifier</th>\n",
              "      <td>0.97</td>\n",
              "      <td>0.90</td>\n",
              "      <td>0.90</td>\n",
              "      <td>0.96</td>\n",
              "      <td>0.17</td>\n",
              "    </tr>\n",
              "    <tr>\n",
              "      <th>XGBClassifier</th>\n",
              "      <td>0.96</td>\n",
              "      <td>0.88</td>\n",
              "      <td>0.88</td>\n",
              "      <td>0.96</td>\n",
              "      <td>0.28</td>\n",
              "    </tr>\n",
              "    <tr>\n",
              "      <th>RandomForestClassifier</th>\n",
              "      <td>0.96</td>\n",
              "      <td>0.86</td>\n",
              "      <td>0.86</td>\n",
              "      <td>0.96</td>\n",
              "      <td>0.67</td>\n",
              "    </tr>\n",
              "    <tr>\n",
              "      <th>BaggingClassifier</th>\n",
              "      <td>0.95</td>\n",
              "      <td>0.86</td>\n",
              "      <td>0.86</td>\n",
              "      <td>0.95</td>\n",
              "      <td>0.20</td>\n",
              "    </tr>\n",
              "    <tr>\n",
              "      <th>DecisionTreeClassifier</th>\n",
              "      <td>0.91</td>\n",
              "      <td>0.82</td>\n",
              "      <td>0.82</td>\n",
              "      <td>0.91</td>\n",
              "      <td>0.07</td>\n",
              "    </tr>\n",
              "    <tr>\n",
              "      <th>SVC</th>\n",
              "      <td>0.93</td>\n",
              "      <td>0.76</td>\n",
              "      <td>0.76</td>\n",
              "      <td>0.92</td>\n",
              "      <td>0.19</td>\n",
              "    </tr>\n",
              "    <tr>\n",
              "      <th>ExtraTreesClassifier</th>\n",
              "      <td>0.93</td>\n",
              "      <td>0.76</td>\n",
              "      <td>0.76</td>\n",
              "      <td>0.92</td>\n",
              "      <td>0.31</td>\n",
              "    </tr>\n",
              "    <tr>\n",
              "      <th>NearestCentroid</th>\n",
              "      <td>0.75</td>\n",
              "      <td>0.75</td>\n",
              "      <td>0.75</td>\n",
              "      <td>0.78</td>\n",
              "      <td>0.02</td>\n",
              "    </tr>\n",
              "    <tr>\n",
              "      <th>ExtraTreeClassifier</th>\n",
              "      <td>0.87</td>\n",
              "      <td>0.74</td>\n",
              "      <td>0.74</td>\n",
              "      <td>0.87</td>\n",
              "      <td>0.02</td>\n",
              "    </tr>\n",
              "    <tr>\n",
              "      <th>QuadraticDiscriminantAnalysis</th>\n",
              "      <td>0.85</td>\n",
              "      <td>0.71</td>\n",
              "      <td>0.71</td>\n",
              "      <td>0.85</td>\n",
              "      <td>0.03</td>\n",
              "    </tr>\n",
              "    <tr>\n",
              "      <th>LabelPropagation</th>\n",
              "      <td>0.86</td>\n",
              "      <td>0.70</td>\n",
              "      <td>0.70</td>\n",
              "      <td>0.86</td>\n",
              "      <td>0.39</td>\n",
              "    </tr>\n",
              "    <tr>\n",
              "      <th>LabelSpreading</th>\n",
              "      <td>0.86</td>\n",
              "      <td>0.70</td>\n",
              "      <td>0.70</td>\n",
              "      <td>0.86</td>\n",
              "      <td>0.47</td>\n",
              "    </tr>\n",
              "    <tr>\n",
              "      <th>KNeighborsClassifier</th>\n",
              "      <td>0.90</td>\n",
              "      <td>0.69</td>\n",
              "      <td>0.69</td>\n",
              "      <td>0.88</td>\n",
              "      <td>0.09</td>\n",
              "    </tr>\n",
              "    <tr>\n",
              "      <th>GaussianNB</th>\n",
              "      <td>0.84</td>\n",
              "      <td>0.68</td>\n",
              "      <td>0.68</td>\n",
              "      <td>0.84</td>\n",
              "      <td>0.02</td>\n",
              "    </tr>\n",
              "    <tr>\n",
              "      <th>AdaBoostClassifier</th>\n",
              "      <td>0.87</td>\n",
              "      <td>0.65</td>\n",
              "      <td>0.65</td>\n",
              "      <td>0.86</td>\n",
              "      <td>0.26</td>\n",
              "    </tr>\n",
              "    <tr>\n",
              "      <th>LinearDiscriminantAnalysis</th>\n",
              "      <td>0.86</td>\n",
              "      <td>0.62</td>\n",
              "      <td>0.62</td>\n",
              "      <td>0.84</td>\n",
              "      <td>0.05</td>\n",
              "    </tr>\n",
              "    <tr>\n",
              "      <th>LogisticRegression</th>\n",
              "      <td>0.87</td>\n",
              "      <td>0.60</td>\n",
              "      <td>0.60</td>\n",
              "      <td>0.84</td>\n",
              "      <td>0.05</td>\n",
              "    </tr>\n",
              "    <tr>\n",
              "      <th>CalibratedClassifierCV</th>\n",
              "      <td>0.87</td>\n",
              "      <td>0.59</td>\n",
              "      <td>0.59</td>\n",
              "      <td>0.84</td>\n",
              "      <td>0.48</td>\n",
              "    </tr>\n",
              "    <tr>\n",
              "      <th>PassiveAggressiveClassifier</th>\n",
              "      <td>0.85</td>\n",
              "      <td>0.59</td>\n",
              "      <td>0.59</td>\n",
              "      <td>0.83</td>\n",
              "      <td>0.03</td>\n",
              "    </tr>\n",
              "    <tr>\n",
              "      <th>LinearSVC</th>\n",
              "      <td>0.87</td>\n",
              "      <td>0.58</td>\n",
              "      <td>0.58</td>\n",
              "      <td>0.83</td>\n",
              "      <td>0.19</td>\n",
              "    </tr>\n",
              "    <tr>\n",
              "      <th>Perceptron</th>\n",
              "      <td>0.86</td>\n",
              "      <td>0.57</td>\n",
              "      <td>0.57</td>\n",
              "      <td>0.82</td>\n",
              "      <td>0.03</td>\n",
              "    </tr>\n",
              "    <tr>\n",
              "      <th>RidgeClassifier</th>\n",
              "      <td>0.87</td>\n",
              "      <td>0.56</td>\n",
              "      <td>0.56</td>\n",
              "      <td>0.83</td>\n",
              "      <td>0.02</td>\n",
              "    </tr>\n",
              "    <tr>\n",
              "      <th>RidgeClassifierCV</th>\n",
              "      <td>0.87</td>\n",
              "      <td>0.56</td>\n",
              "      <td>0.56</td>\n",
              "      <td>0.83</td>\n",
              "      <td>0.04</td>\n",
              "    </tr>\n",
              "    <tr>\n",
              "      <th>BernoulliNB</th>\n",
              "      <td>0.86</td>\n",
              "      <td>0.56</td>\n",
              "      <td>0.56</td>\n",
              "      <td>0.82</td>\n",
              "      <td>0.02</td>\n",
              "    </tr>\n",
              "    <tr>\n",
              "      <th>SGDClassifier</th>\n",
              "      <td>0.85</td>\n",
              "      <td>0.53</td>\n",
              "      <td>0.53</td>\n",
              "      <td>0.80</td>\n",
              "      <td>0.05</td>\n",
              "    </tr>\n",
              "    <tr>\n",
              "      <th>DummyClassifier</th>\n",
              "      <td>0.74</td>\n",
              "      <td>0.49</td>\n",
              "      <td>0.49</td>\n",
              "      <td>0.74</td>\n",
              "      <td>0.03</td>\n",
              "    </tr>\n",
              "  </tbody>\n",
              "</table>\n",
              "</div>"
            ],
            "text/plain": [
              "                               Accuracy  ...  Time Taken\n",
              "Model                                    ...            \n",
              "LGBMClassifier                     0.97  ...        0.17\n",
              "XGBClassifier                      0.96  ...        0.28\n",
              "RandomForestClassifier             0.96  ...        0.67\n",
              "BaggingClassifier                  0.95  ...        0.20\n",
              "DecisionTreeClassifier             0.91  ...        0.07\n",
              "SVC                                0.93  ...        0.19\n",
              "ExtraTreesClassifier               0.93  ...        0.31\n",
              "NearestCentroid                    0.75  ...        0.02\n",
              "ExtraTreeClassifier                0.87  ...        0.02\n",
              "QuadraticDiscriminantAnalysis      0.85  ...        0.03\n",
              "LabelPropagation                   0.86  ...        0.39\n",
              "LabelSpreading                     0.86  ...        0.47\n",
              "KNeighborsClassifier               0.90  ...        0.09\n",
              "GaussianNB                         0.84  ...        0.02\n",
              "AdaBoostClassifier                 0.87  ...        0.26\n",
              "LinearDiscriminantAnalysis         0.86  ...        0.05\n",
              "LogisticRegression                 0.87  ...        0.05\n",
              "CalibratedClassifierCV             0.87  ...        0.48\n",
              "PassiveAggressiveClassifier        0.85  ...        0.03\n",
              "LinearSVC                          0.87  ...        0.19\n",
              "Perceptron                         0.86  ...        0.03\n",
              "RidgeClassifier                    0.87  ...        0.02\n",
              "RidgeClassifierCV                  0.87  ...        0.04\n",
              "BernoulliNB                        0.86  ...        0.02\n",
              "SGDClassifier                      0.85  ...        0.05\n",
              "DummyClassifier                    0.74  ...        0.03\n",
              "\n",
              "[26 rows x 5 columns]"
            ]
          },
          "metadata": {
            "tags": []
          },
          "execution_count": 24
        }
      ]
    },
    {
      "cell_type": "markdown",
      "metadata": {
        "id": "qHeXnwIuW8oF"
      },
      "source": [
        "While I actually guessed quite well that a decision tree would be good for this data, the Light Gradient Boosting Machine Classifier and Xtreme Gradient Boosting Classifier appear to have the highest accuracy AND the highest F1 score which is more important.  We will go with the Light Gradient Boosting Machine Classifier since our data set is small and it fit a little bit faster than XGBClassifier. First, we will define our hyperparameter tune function."
      ]
    },
    {
      "cell_type": "code",
      "metadata": {
        "id": "igkzo9KgbJAy"
      },
      "source": [
        "def hyperparameter_tune(base_model, parameters, n_iter, k, X=X_train, y=y_train):\n",
        "    start_time = time.time()\n",
        "    \n",
        "    optimal_model = RandomizedSearchCV(base_model,\n",
        "                            param_distributions=parameters,\n",
        "                            n_iter=n_iter,\n",
        "                            cv=k,\n",
        "                            n_jobs=-1,\n",
        "                            random_state=seed)\n",
        "    \n",
        "    optimal_model.fit(X, y)\n",
        "    \n",
        "    stop_time = time.time()\n",
        "\n",
        "    scores = cross_val_score(optimal_model, X, y, cv=k, scoring=\"accuracy\")\n",
        "    \n",
        "    print(\"Elapsed Time:\", time.strftime(\"%H:%M:%S\", time.gmtime(stop_time - start_time)))\n",
        "    print(\"====================\")\n",
        "    print(\"Cross Val Mean: {:.3f}, Cross Val Stdev: {:.3f}\".format(scores.mean(), scores.std()))\n",
        "    print(\"Best Score: {:.3f}\".format(optimal_model.best_score_))\n",
        "    print(\"Best Parameters: {}\".format(optimal_model.best_params_))\n",
        "    \n",
        "    return optimal_model.best_params_, optimal_model.best_score_"
      ],
      "execution_count": 25,
      "outputs": []
    },
    {
      "cell_type": "markdown",
      "metadata": {
        "id": "WnGrdYCtcdXk"
      },
      "source": [
        "Now, we will define relevant hyperparameters for the LGBM classifier."
      ]
    },
    {
      "cell_type": "code",
      "metadata": {
        "id": "CdCfL8cTclF_"
      },
      "source": [
        "parameters = {\n",
        "        'silent': [False],\n",
        "        'max_depth': randint(3, 20),\n",
        "        'learning_rate': [0.001, 0.01, 0.1, 0.2, 0, 3],\n",
        "        'subsample': [0.5, 0.6, 0.7, 0.8, 0.9, 1.0],\n",
        "        'colsample_bytree': [0.4, 0.5, 0.6, 0.7, 0.8, 0.9, 1.0],\n",
        "        'min_child_weight': [0.5, 1.0, 3.0, 5.0, 7.0, 10.0],\n",
        "        'num_leaves': randint(15, 60),\n",
        "        'reg_lambda': loguniform(0.1, 100),\n",
        "        'n_estimators': randint(50, 300)\n",
        "}"
      ],
      "execution_count": 27,
      "outputs": []
    },
    {
      "cell_type": "markdown",
      "metadata": {
        "id": "FILhYQhfgCBj"
      },
      "source": [
        "Next, we will fit our Light Gradient Boosting Machine Classifier (LGBM) on the training set."
      ]
    },
    {
      "cell_type": "code",
      "metadata": {
        "colab": {
          "base_uri": "https://localhost:8080/"
        },
        "id": "PJNYXSxIgOlC",
        "outputId": "d74247e2-1f8d-408a-cec0-a07d4ec847fb"
      },
      "source": [
        "ltgb = lgb.LGBMClassifier(learning_rate=0.01, n_estimators=100, max_depth=15,subsample=0.52,colsample_bytree=0.6,seed=seed, \n",
        "                    reg_lambda=2, min_child_weight = 0.5, num_leaves=40)\n",
        "\n",
        "best_params, best_score = hyperparameter_tune(ltgb, parameters, 60, 5, X_train, y_train)"
      ],
      "execution_count": 32,
      "outputs": [
        {
          "output_type": "stream",
          "text": [
            "Elapsed Time: 00:00:16\n",
            "====================\n",
            "Cross Val Mean: 0.945, Cross Val Stdev: 0.006\n",
            "Best Score: 0.946\n",
            "Best Parameters: {'colsample_bytree': 0.9, 'learning_rate': 0.2, 'max_depth': 12, 'min_child_weight': 0.5, 'n_estimators': 73, 'num_leaves': 56, 'reg_lambda': 14.491658943324579, 'silent': False, 'subsample': 1.0}\n"
          ],
          "name": "stdout"
        }
      ]
    },
    {
      "cell_type": "markdown",
      "metadata": {
        "id": "RwtGJQgRkBRA"
      },
      "source": [
        "Here, we will use the best hyperparameter values after 60 iterations which should put us inside of a 95% confidence interval that we have the best model and to put those hyperparameters into the model.  "
      ]
    },
    {
      "cell_type": "code",
      "metadata": {
        "colab": {
          "base_uri": "https://localhost:8080/"
        },
        "id": "V0sDwa9TgtI2",
        "outputId": "c3073d13-4365-462d-931d-f1d9ed49e74f"
      },
      "source": [
        "ltgb_tuned = lgb.LGBMClassifier(learning_rate=0.2, n_estimators=73, max_depth=12, subsample=1,colsample_bytree=0.9,seed=seed, \n",
        "                    reg_lambda=14.491658943324579, min_child_weight = 0.5, num_leaves=56)\n",
        "ltgb_tuned.fit(X_train,y_train)\n",
        "print(ltgb_tuned.score(X_train,y_train))\n",
        "print(ltgb_tuned.score(X_test,y_test))\n"
      ],
      "execution_count": 33,
      "outputs": [
        {
          "output_type": "stream",
          "text": [
            "0.9815926370548219\n",
            "0.9664268585131894\n"
          ],
          "name": "stdout"
        }
      ]
    },
    {
      "cell_type": "markdown",
      "metadata": {
        "id": "-Itdp4H-kfnc"
      },
      "source": [
        "Wow, that is a high accuracy on the training set and the test set and our y values have already been stratified.  "
      ]
    },
    {
      "cell_type": "code",
      "metadata": {
        "colab": {
          "base_uri": "https://localhost:8080/",
          "height": 471
        },
        "id": "InD8l52Lkq6Z",
        "outputId": "ec58069f-acc8-4f8c-83b6-99ada24cf355"
      },
      "source": [
        "ltgb_predicted = ltgb_tuned.predict(X_test)\n",
        "\n",
        "plot_confusion_matrix(ltgb_tuned, X_test, y_test, cmap = 'Greens')\n",
        "plt.grid(False)\n",
        "plt.show()\n",
        "\n",
        "ltgb_acc_score = accuracy_score(y_test, ltgb_predicted)\n",
        "\n",
        "print(\"Accuracy of Light Gradient Boosting Machine:\",ltgb_acc_score*100,'\\n')\n",
        "print(classification_report(y_test,ltgb_predicted))"
      ],
      "execution_count": 34,
      "outputs": [
        {
          "output_type": "display_data",
          "data": {
            "image/png": "[encoded data removed]",
            "text/plain": [
              "<Figure size 432x288 with 2 Axes>"
            ]
          },
          "metadata": {
            "tags": []
          }
        },
        {
          "output_type": "stream",
          "text": [
            "Accuracy of Light Gradient Boosting Machine: 96.64268585131894 \n",
            "\n",
            "              precision    recall  f1-score   support\n",
            "\n",
            "           0       0.97      0.99      0.98       713\n",
            "           1       0.96      0.80      0.87       121\n",
            "\n",
            "    accuracy                           0.97       834\n",
            "   macro avg       0.96      0.90      0.93       834\n",
            "weighted avg       0.97      0.97      0.97       834\n",
            "\n"
          ],
          "name": "stdout"
        }
      ]
    },
    {
      "cell_type": "code",
      "metadata": {
        "colab": {
          "base_uri": "https://localhost:8080/",
          "height": 299
        },
        "id": "hfAHrXCHllQ1",
        "outputId": "caeb2b11-f1be-4054-fc2d-6dc4a037561d"
      },
      "source": [
        "y_pred_proba = ltgb_tuned.predict_proba(X_test)[:,1]\n",
        "fpr, tpr, thresholds = roc_curve(y_test, y_pred_proba)\n",
        "\n",
        "plt.plot([0,1],[0,1], color='#495084', linestyle='--')\n",
        "plt.plot(fpr,tpr, label='ltgb', color='#479D9E')\n",
        "plt.xlabel('False Positive Rate (FPR)')\n",
        "plt.ylabel('True Positive Rate (TPR)')\n",
        "plt.title('Light Gradient Boosting Machine ROC curve')\n",
        "plt.show()"
      ],
      "execution_count": 35,
      "outputs": [
        {
          "output_type": "display_data",
          "data": {
            "image/png": "[encoded data removed]",
            "text/plain": [
              "<Figure size 432x288 with 1 Axes>"
            ]
          },
          "metadata": {
            "tags": []
          }
        }
      ]
    },
    {
      "cell_type": "code",
      "metadata": {
        "colab": {
          "base_uri": "https://localhost:8080/"
        },
        "id": "iJiqLC0-lv_x",
        "outputId": "e9964490-fdbb-433b-d355-50c9c009ca6b"
      },
      "source": [
        "roc = roc_auc_score(y_test,y_pred_proba)\n",
        "print('ROC Score: {:.2f}'.format(roc))"
      ],
      "execution_count": 36,
      "outputs": [
        {
          "output_type": "stream",
          "text": [
            "ROC Score: 0.93\n"
          ],
          "name": "stdout"
        }
      ]
    },
    {
      "cell_type": "markdown",
      "metadata": {
        "id": "ev7Zh1z6l2ne"
      },
      "source": [
        "The scores are excellent as the area under the ROC curve is 0.93 and the final f1 score id 0.93 for the model.  Only 4 false negatives for this model! One last thing to do is to check for feature importances to see which of these features was most important to this model."
      ]
    },
    {
      "cell_type": "code",
      "metadata": {
        "id": "kFztLaduoteI"
      },
      "source": [
        "def plot_feature_importance(importance, names, model_type):\n",
        "\n",
        "#Create arrays from feature importance and feature names\n",
        "  feature_importance = np.array(importance)\n",
        "  feature_names = np.array(names)\n",
        "\n",
        "#Create a DataFrame using a Dictionary\n",
        "  data={'feature_names':feature_names,'feature_importance':feature_importance}\n",
        "  fi_df = pd.DataFrame(data)\n",
        "\n",
        "#Sort the DataFrame in order decreasing feature importance\n",
        "  fi_df.sort_values(by=['feature_importance'], ascending=False, inplace=True)\n",
        "\n",
        "#Define size of bar plot\n",
        "  plt.figure(figsize=(10,8))\n",
        "#Plot Searborn bar chart\n",
        "  sns.barplot(x=fi_df['feature_importance'], y=fi_df['feature_names'])\n",
        "#Add chart labels\n",
        "  plt.title(model_type + ' Feature Importance')\n",
        "  plt.xlabel('Feature Importance to Model')\n",
        "  plt.ylabel('Features')"
      ],
      "execution_count": 38,
      "outputs": []
    },
    {
      "cell_type": "code",
      "metadata": {
        "colab": {
          "base_uri": "https://localhost:8080/",
          "height": 517
        },
        "id": "Yo_1LLp2juiU",
        "outputId": "5f27337c-bec9-4d7d-ccd2-1d85718eb274"
      },
      "source": [
        "plot_feature_importance(ltgb_tuned.feature_importances_, X_train.columns,'Light Gradient Boosting Machine Classifier')"
      ],
      "execution_count": 39,
      "outputs": [
        {
          "output_type": "display_data",
          "data": {
            "image/png": "[encoded data removed]",
            "text/plain": [
              "<Figure size 720x576 with 1 Axes>"
            ]
          },
          "metadata": {
            "tags": []
          }
        }
      ]
    },
    {
      "cell_type": "markdown",
      "metadata": {
        "id": "miK-p0u8pSuq"
      },
      "source": [
        "# **Conclusion**"
      ]
    },
    {
      "cell_type": "markdown",
      "metadata": {
        "id": "smqtV-aOpXn8"
      },
      "source": [
        "Now that looks like a pretty robust model to me.  It is clear that charges are the primary indicator of customer churn in this telecom data set, in addition to the number of average international calls made.  Day charges are the most important feature to consider regarding churn.  One would suspect that customer service calls or voicemail messages left would be indicators of churn but not in this model.  The metrics for the LGBM model were astounding with 0.93 f1 score and a 0.93 area under the ROC curve, not to mention a 96% accuracy.  Lazy predict helped identify the best model and the model was utilized to provide excellent insight."
      ]
    }
  ]
}